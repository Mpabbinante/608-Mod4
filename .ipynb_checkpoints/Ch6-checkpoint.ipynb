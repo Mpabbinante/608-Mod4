{
 "cells": [
  {
   "cell_type": "markdown",
   "id": "932fcc77-9518-4287-9cdf-89dd5d202fe5",
   "metadata": {},
   "source": [
    "Ch.6 Dictionaries and lists"
   ]
  },
  {
   "cell_type": "code",
   "execution_count": 1,
   "id": "a902ff52-b6f8-423d-8151-d574e950afd5",
   "metadata": {},
   "outputs": [],
   "source": [
    "#6.2 Dictionaries"
   ]
  },
  {
   "cell_type": "code",
   "execution_count": 2,
   "id": "fedf2266-b32c-40ac-9677-9bc18e5a84a8",
   "metadata": {},
   "outputs": [],
   "source": [
    "#A dictionaries keys must be immutable and unique. multiple keys can have the same value"
   ]
  },
  {
   "cell_type": "code",
   "execution_count": 3,
   "id": "e6d286ee-904d-404c-8628-77d4ca94f676",
   "metadata": {},
   "outputs": [],
   "source": [
    "#6.2.1 Creating dictionaries"
   ]
  },
  {
   "cell_type": "code",
   "execution_count": 4,
   "id": "3b765f37-1d15-4950-a3f5-60671a8929d2",
   "metadata": {},
   "outputs": [
    {
     "data": {
      "text/plain": [
       "{'Finland': 'fi', 'South Africa': 'za', 'Nepal': 'np'}"
      ]
     },
     "execution_count": 4,
     "metadata": {},
     "output_type": "execute_result"
    }
   ],
   "source": [
    "country_codes = {'Finland': 'fi' , 'South Africa' : 'za' , 'Nepal' : 'np'}\n",
    "                \n",
    "country_codes"
   ]
  },
  {
   "cell_type": "code",
   "execution_count": 5,
   "id": "865ff5df-a26e-413b-8fa7-ced0ec13ed41",
   "metadata": {},
   "outputs": [
    {
     "data": {
      "text/plain": [
       "3"
      ]
     },
     "execution_count": 5,
     "metadata": {},
     "output_type": "execute_result"
    }
   ],
   "source": [
    "#determining if a dictionary is empty\n",
    "    #the built-in function len returns the number of key-value pairs\n",
    "    \n",
    "len(country_codes)"
   ]
  },
  {
   "cell_type": "code",
   "execution_count": 6,
   "id": "d827424c-995a-4def-857d-e84f2819633f",
   "metadata": {},
   "outputs": [],
   "source": [
    "#you can use a dictionary as a condition to determine if it's empty-- a non empty dictionary evaluates true"
   ]
  },
  {
   "cell_type": "code",
   "execution_count": 7,
   "id": "79a6be2f-2248-4b7e-a383-ccf56dccf262",
   "metadata": {},
   "outputs": [
    {
     "name": "stdout",
     "output_type": "stream",
     "text": [
      "country_codes is not empty\n"
     ]
    }
   ],
   "source": [
    "if country_codes:\n",
    "    print('country_codes is not empty')\n",
    "else:\n",
    "    print('country_codes is empty')"
   ]
  },
  {
   "cell_type": "code",
   "execution_count": 8,
   "id": "6c5848ee-e521-4389-9416-5463a5459c0d",
   "metadata": {},
   "outputs": [
    {
     "name": "stdout",
     "output_type": "stream",
     "text": [
      "country_codes is empty\n"
     ]
    }
   ],
   "source": [
    "#the call method clear deletes the dictionary's ley-value pairs\n",
    "\n",
    "country_codes.clear()\n",
    "#to demonstrate the following code shows that it is empty\n",
    "if country_codes:\n",
    "    print('country_codes is not empty')\n",
    "else:\n",
    "    print('country_codes is empty')"
   ]
  },
  {
   "cell_type": "code",
   "execution_count": 9,
   "id": "7ab3a03e-ecab-415a-af1c-0886f6dafcf8",
   "metadata": {},
   "outputs": [
    {
     "data": {
      "text/plain": [
       "{'I': 1, 'II': 2, 'III': 3, 'IV': 4, 'V': 5, 'X': 100}"
      ]
     },
     "execution_count": 9,
     "metadata": {},
     "output_type": "execute_result"
    }
   ],
   "source": [
    "#6.2.2 Basic dictionary operations\n",
    "\n",
    "roman_numerals = {'I' : 1, 'II' : 2, 'III' : 3, 'IV' : 4, 'V' : 5, 'X' : 100}\n",
    "                  \n",
    "roman_numerals"
   ]
  },
  {
   "cell_type": "code",
   "execution_count": 10,
   "id": "64a304bd-69e0-414f-989e-3b8549d71cc3",
   "metadata": {},
   "outputs": [
    {
     "data": {
      "text/plain": [
       "5"
      ]
     },
     "execution_count": 10,
     "metadata": {},
     "output_type": "execute_result"
    }
   ],
   "source": [
    "#assessing the value of a key\n",
    "\n",
    "roman_numerals['V']"
   ]
  },
  {
   "cell_type": "code",
   "execution_count": 11,
   "id": "838b43ec-f3e1-462f-9e1e-1d6a991354d8",
   "metadata": {},
   "outputs": [
    {
     "data": {
      "text/plain": [
       "{'I': 1, 'II': 2, 'III': 3, 'IV': 4, 'V': 5, 'X': 10}"
      ]
     },
     "execution_count": 11,
     "metadata": {},
     "output_type": "execute_result"
    }
   ],
   "source": [
    "#uppdating the value of an existing Key-Value pair\n",
    "\n",
    "roman_numerals['X'] = 10\n",
    "\n",
    "roman_numerals"
   ]
  },
  {
   "cell_type": "code",
   "execution_count": 12,
   "id": "d72b3007-c0ec-490f-a322-5615e01d4d33",
   "metadata": {},
   "outputs": [
    {
     "data": {
      "text/plain": [
       "{'I': 1, 'II': 2, 'III': 3, 'IV': 4, 'V': 5, 'X': 10, 'L': 50}"
      ]
     },
     "execution_count": 12,
     "metadata": {},
     "output_type": "execute_result"
    }
   ],
   "source": [
    "#adding a key-Value pair\n",
    "\n",
    "roman_numerals['L'] = 50\n",
    "\n",
    "roman_numerals"
   ]
  },
  {
   "cell_type": "code",
   "execution_count": 13,
   "id": "2ccee4bb-776d-4700-9d25-c14234fbb9d2",
   "metadata": {},
   "outputs": [
    {
     "data": {
      "text/plain": [
       "{'I': 1, 'II': 2, 'IV': 4, 'V': 5, 'X': 10, 'L': 50}"
      ]
     },
     "execution_count": 13,
     "metadata": {},
     "output_type": "execute_result"
    }
   ],
   "source": [
    "#removing a key-Value pair\n",
    "\n",
    "del roman_numerals['III']\n",
    "\n",
    "roman_numerals"
   ]
  },
  {
   "cell_type": "code",
   "execution_count": 14,
   "id": "8ea2f741-e104-4d28-8452-244768e0f560",
   "metadata": {},
   "outputs": [
    {
     "data": {
      "text/plain": [
       "'III not in dictionary'"
      ]
     },
     "execution_count": 14,
     "metadata": {},
     "output_type": "execute_result"
    }
   ],
   "source": [
    "#attempting to access a non existant pair will result in a Keyerror\n",
    "#this can be prevented by using the dictionary get method, which returns its argument's corresponding value\n",
    "\n",
    "roman_numerals.get('III')\n",
    "\n",
    "roman_numerals.get('III', 'III not in dictionary')"
   ]
  },
  {
   "cell_type": "code",
   "execution_count": 15,
   "id": "95149fa2-197a-421d-b4f6-84442c6e0617",
   "metadata": {},
   "outputs": [
    {
     "data": {
      "text/plain": [
       "5"
      ]
     },
     "execution_count": 15,
     "metadata": {},
     "output_type": "execute_result"
    }
   ],
   "source": [
    "roman_numerals.get('V')"
   ]
  },
  {
   "cell_type": "code",
   "execution_count": 16,
   "id": "a9b1bce8-d54e-4fa2-96eb-b5d633fa36fb",
   "metadata": {},
   "outputs": [
    {
     "data": {
      "text/plain": [
       "True"
      ]
     },
     "execution_count": 16,
     "metadata": {},
     "output_type": "execute_result"
    }
   ],
   "source": [
    "#testing whether a dictionary contains a specific key\n",
    "\n",
    "'V' in roman_numerals"
   ]
  },
  {
   "cell_type": "code",
   "execution_count": 17,
   "id": "50e255ae-b2a9-425c-a95a-76b43198aa9e",
   "metadata": {},
   "outputs": [
    {
     "data": {
      "text/plain": [
       "False"
      ]
     },
     "execution_count": 17,
     "metadata": {},
     "output_type": "execute_result"
    }
   ],
   "source": [
    "'III' in roman_numerals"
   ]
  },
  {
   "cell_type": "code",
   "execution_count": 18,
   "id": "146ae4c3-cf1b-45a2-9e67-289e10909317",
   "metadata": {},
   "outputs": [
    {
     "data": {
      "text/plain": [
       "True"
      ]
     },
     "execution_count": 18,
     "metadata": {},
     "output_type": "execute_result"
    }
   ],
   "source": [
    "'III' not in roman_numerals"
   ]
  },
  {
   "cell_type": "code",
   "execution_count": 19,
   "id": "0fb61c53-ca92-4dc1-94a8-05352aef93ef",
   "metadata": {},
   "outputs": [
    {
     "data": {
      "text/plain": [
       "{'January': 1, 'February': 2, 'March': 3}"
      ]
     },
     "execution_count": 19,
     "metadata": {},
     "output_type": "execute_result"
    }
   ],
   "source": [
    "#6.2.4 Dictionary methods Keys and values\n",
    "\n",
    "months= {'January' : 1, 'February' : 2, 'March' : 3}\n",
    "\n",
    "months"
   ]
  },
  {
   "cell_type": "code",
   "execution_count": 20,
   "id": "3113c695-e40c-496b-a511-9b45db041655",
   "metadata": {},
   "outputs": [
    {
     "name": "stdout",
     "output_type": "stream",
     "text": [
      "January February March "
     ]
    }
   ],
   "source": [
    "for month_name in months.keys():\n",
    "    \n",
    "    print(month_name, end= ' ')"
   ]
  },
  {
   "cell_type": "code",
   "execution_count": 21,
   "id": "215342a8-f406-4935-abd1-8bee57943bf5",
   "metadata": {},
   "outputs": [
    {
     "name": "stdout",
     "output_type": "stream",
     "text": [
      "1 2 3 "
     ]
    }
   ],
   "source": [
    "for month_name in months.values():\n",
    "    \n",
    "    print(month_name, end= ' ')"
   ]
  },
  {
   "cell_type": "code",
   "execution_count": 22,
   "id": "848212d6-5533-4d8b-b3c7-8adcb5e3ee9e",
   "metadata": {},
   "outputs": [],
   "source": [
    "#Dictionary Views\n",
    "#dictionary method items, keys and values return a view of a dictionary's data. iterating a view sees the dictionary's current contents it does not have its own copy of data\n",
    "\n",
    "months_view = months.keys()"
   ]
  },
  {
   "cell_type": "code",
   "execution_count": 23,
   "id": "6cc9bf94-190c-45a4-925a-966cbd85984c",
   "metadata": {},
   "outputs": [
    {
     "name": "stdout",
     "output_type": "stream",
     "text": [
      "January February March "
     ]
    }
   ],
   "source": [
    "for key in months_view:\n",
    "    print(key, end = ' ')"
   ]
  },
  {
   "cell_type": "code",
   "execution_count": 24,
   "id": "5a74aa31-c29e-43fc-b41e-cee64af979e7",
   "metadata": {},
   "outputs": [
    {
     "data": {
      "text/plain": [
       "{'January': 1, 'February': 2, 'March': 3, 'December': 12}"
      ]
     },
     "execution_count": 24,
     "metadata": {},
     "output_type": "execute_result"
    }
   ],
   "source": [
    "#adding to the dictionary\n",
    "months['December'] = 12\n",
    "\n",
    "months"
   ]
  },
  {
   "cell_type": "code",
   "execution_count": 25,
   "id": "86c6ccd3-4182-4ef1-a231-04d69e245024",
   "metadata": {},
   "outputs": [
    {
     "name": "stdout",
     "output_type": "stream",
     "text": [
      "January February March December "
     ]
    }
   ],
   "source": [
    "#redoing the following code has the new item added ot the dictionary\n",
    "for key in months_view:\n",
    "    print(key, end = ' ')"
   ]
  },
  {
   "cell_type": "code",
   "execution_count": 26,
   "id": "6ac22d2b-8195-4a3a-8338-a8839fcd75bd",
   "metadata": {},
   "outputs": [
    {
     "data": {
      "text/plain": [
       "['January', 'February', 'March', 'December']"
      ]
     },
     "execution_count": 26,
     "metadata": {},
     "output_type": "execute_result"
    }
   ],
   "source": [
    "#converting dictionary Keys, Values, and key-Value pairs to lists\n",
    "\n",
    "list(months.keys())"
   ]
  },
  {
   "cell_type": "code",
   "execution_count": 27,
   "id": "c4c8dcc5-dffe-487b-b029-63f3206fa9d1",
   "metadata": {},
   "outputs": [
    {
     "data": {
      "text/plain": [
       "[1, 2, 3, 12]"
      ]
     },
     "execution_count": 27,
     "metadata": {},
     "output_type": "execute_result"
    }
   ],
   "source": [
    "list(months.values())"
   ]
  },
  {
   "cell_type": "code",
   "execution_count": 28,
   "id": "94541994-c246-4807-9612-b76fa23b1db8",
   "metadata": {},
   "outputs": [
    {
     "data": {
      "text/plain": [
       "[('January', 1), ('February', 2), ('March', 3), ('December', 12)]"
      ]
     },
     "execution_count": 28,
     "metadata": {},
     "output_type": "execute_result"
    }
   ],
   "source": [
    "list(months.items())"
   ]
  },
  {
   "cell_type": "code",
   "execution_count": 29,
   "id": "759125d0-5a29-496f-a8d6-6a75b2033978",
   "metadata": {},
   "outputs": [
    {
     "name": "stdout",
     "output_type": "stream",
     "text": [
      "December February January March "
     ]
    }
   ],
   "source": [
    "#processing keys in sorted order\n",
    "\n",
    "for month_name in sorted(months.keys()):\n",
    "    print(month_name, end = ' ')"
   ]
  },
  {
   "cell_type": "code",
   "execution_count": 30,
   "id": "fa6311fa-77ed-4ece-b598-3f3e1530edec",
   "metadata": {},
   "outputs": [
    {
     "name": "stdout",
     "output_type": "stream",
     "text": [
      "WORD        COUNT\n",
      "There       1\n",
      "are         2\n",
      "at          1\n",
      "bee         1\n",
      "bees        3\n",
      "cut         1\n",
      "flying      1\n",
      "full        1\n",
      "garage      2\n",
      "in          3\n",
      "is          1\n",
      "large       1\n",
      "look        1\n",
      "nest?There  1\n",
      "of          1\n",
      "over        1\n",
      "shed        1\n",
      "the         5\n",
      "thereWhere  1\n",
      "these       1\n",
      "trees       3\n",
      "two         1\n",
      "\n",
      "Number of unique words: 22\n"
     ]
    }
   ],
   "source": [
    "#word count with dictionaries\n",
    "\n",
    "# fig06_02.py\n",
    "\"\"\"Tokenizing a string and counting unique words.\"\"\"\n",
    "\n",
    "text = ('There are two large trees in the flying garage full of bees ' \n",
    "        'bees bees look at these trees over there' 'Where in the garage is the bee nest?' 'There in the shed the trees are cut')\n",
    "\n",
    "word_counts = {}\n",
    "\n",
    "# count occurrences of each unique word\n",
    "for word in text.split():\n",
    "    if word in word_counts: \n",
    "        word_counts[word] += 1  # update existing key-value pair\n",
    "    else:\n",
    "        word_counts[word] = 1  # insert new key-value pair\n",
    "\n",
    "print(f'{\"WORD\":<12}COUNT')\n",
    "\n",
    "for word, count in sorted(word_counts.items()):\n",
    "    print(f'{word:<12}{count}')\n",
    "\n",
    "print('\\nNumber of unique words:', len(word_counts))"
   ]
  },
  {
   "cell_type": "code",
   "execution_count": 31,
   "id": "93b898a7-f049-459a-a5fb-0db1aca59600",
   "metadata": {},
   "outputs": [],
   "source": [
    "#6.3 Sets\n",
    "#A set is an unordered collection of unique values. Sets may contain only immutable objects, like strings, ints, floats, and tuples."
   ]
  },
  {
   "cell_type": "code",
   "execution_count": 32,
   "id": "74f5fe00-b7f9-4a2d-9c05-20fd250c58b3",
   "metadata": {},
   "outputs": [
    {
     "data": {
      "text/plain": [
       "{'blue', 'brown', 'green', 'grey', 'magenta', 'purple', 'red', 'yellow'}"
      ]
     },
     "execution_count": 32,
     "metadata": {},
     "output_type": "execute_result"
    }
   ],
   "source": [
    "#creating a set with Curly Braces\n",
    "\n",
    "colors = {'red', 'green', 'blue', 'yellow', 'purple', 'brown', 'magenta', 'grey'}\n",
    "\n",
    "colors"
   ]
  },
  {
   "cell_type": "code",
   "execution_count": 33,
   "id": "75c55c12-54c0-4dd4-9149-819fb43d944f",
   "metadata": {},
   "outputs": [
    {
     "data": {
      "text/plain": [
       "8"
      ]
     },
     "execution_count": 33,
     "metadata": {},
     "output_type": "execute_result"
    }
   ],
   "source": [
    "#determining a set's length\n",
    "\n",
    "len(colors)"
   ]
  },
  {
   "cell_type": "code",
   "execution_count": 34,
   "id": "f63dd130-65ef-4530-b5ba-3941ada571d6",
   "metadata": {},
   "outputs": [
    {
     "data": {
      "text/plain": [
       "True"
      ]
     },
     "execution_count": 34,
     "metadata": {},
     "output_type": "execute_result"
    }
   ],
   "source": [
    "#checking whether a value is in the set\n",
    "\n",
    "'red' in colors"
   ]
  },
  {
   "cell_type": "code",
   "execution_count": 35,
   "id": "b28bbde7-a6e1-4df3-9f81-7e266e7df050",
   "metadata": {},
   "outputs": [
    {
     "data": {
      "text/plain": [
       "True"
      ]
     },
     "execution_count": 35,
     "metadata": {},
     "output_type": "execute_result"
    }
   ],
   "source": [
    "'green' in colors"
   ]
  },
  {
   "cell_type": "code",
   "execution_count": 36,
   "id": "55449897-68e8-4b7a-ac74-6438b7a883d2",
   "metadata": {},
   "outputs": [
    {
     "data": {
      "text/plain": [
       "False"
      ]
     },
     "execution_count": 36,
     "metadata": {},
     "output_type": "execute_result"
    }
   ],
   "source": [
    "'white' in colors"
   ]
  },
  {
   "cell_type": "code",
   "execution_count": 37,
   "id": "5aa21a8b-9158-4464-845b-e5272d5e092d",
   "metadata": {},
   "outputs": [],
   "source": [
    "#iterating through a set"
   ]
  },
  {
   "cell_type": "code",
   "execution_count": 38,
   "id": "1768dbd1-c546-422a-9c37-09e99c64cbd6",
   "metadata": {},
   "outputs": [
    {
     "name": "stdout",
     "output_type": "stream",
     "text": [
      "RED PURPLE GREY MAGENTA YELLOW BLUE BROWN GREEN "
     ]
    }
   ],
   "source": [
    "for color in colors:\n",
    "    print(color.upper(), end = ' ' )"
   ]
  },
  {
   "cell_type": "code",
   "execution_count": 39,
   "id": "33f3f5e8-4fbc-4f8c-9c85-76f7bc40ce6d",
   "metadata": {},
   "outputs": [],
   "source": [
    "#creating a set with a built in set function\n",
    "\n",
    "numbers = list(range(10)) + list(range(5))"
   ]
  },
  {
   "cell_type": "code",
   "execution_count": 40,
   "id": "8afe5b20-2db2-49f4-b684-26f1f04347d0",
   "metadata": {},
   "outputs": [
    {
     "data": {
      "text/plain": [
       "[0, 1, 2, 3, 4, 5, 6, 7, 8, 9, 0, 1, 2, 3, 4]"
      ]
     },
     "execution_count": 40,
     "metadata": {},
     "output_type": "execute_result"
    }
   ],
   "source": [
    "numbers"
   ]
  },
  {
   "cell_type": "code",
   "execution_count": 41,
   "id": "228d1ea8-2589-453c-bbba-ed395baadb39",
   "metadata": {},
   "outputs": [
    {
     "data": {
      "text/plain": [
       "{0, 1, 2, 3, 4, 5, 6, 7, 8, 9}"
      ]
     },
     "execution_count": 41,
     "metadata": {},
     "output_type": "execute_result"
    }
   ],
   "source": [
    "set(numbers)"
   ]
  },
  {
   "cell_type": "code",
   "execution_count": 42,
   "id": "61ee90a3-52e6-4fad-8282-87c4e41df467",
   "metadata": {},
   "outputs": [
    {
     "data": {
      "text/plain": [
       "set()"
      ]
     },
     "execution_count": 42,
     "metadata": {},
     "output_type": "execute_result"
    }
   ],
   "source": [
    "set()"
   ]
  },
  {
   "cell_type": "code",
   "execution_count": 43,
   "id": "3bd10e20-7fac-4b29-8583-8c89b8ff7894",
   "metadata": {},
   "outputs": [],
   "source": [
    "#you can create a set from another collection of values by using the built-in set function"
   ]
  },
  {
   "cell_type": "code",
   "execution_count": 44,
   "id": "028c5cd5-bc66-46ab-90b5-431bd819a0d1",
   "metadata": {},
   "outputs": [],
   "source": [
    "#frozenset: an immutable set type\n",
    "#the built in function frozenset can be used to make immutable sets"
   ]
  },
  {
   "cell_type": "code",
   "execution_count": 45,
   "id": "3eb1fa40-e3de-4461-a495-6bb449d9a280",
   "metadata": {},
   "outputs": [
    {
     "data": {
      "text/plain": [
       "True"
      ]
     },
     "execution_count": 45,
     "metadata": {},
     "output_type": "execute_result"
    }
   ],
   "source": [
    "#6.3.1 comparing sets\n",
    "\n",
    "{1, 3, 5 } == {3, 5, 1}"
   ]
  },
  {
   "cell_type": "code",
   "execution_count": 46,
   "id": "1fd10b0d-5830-4835-ab5c-fea7d1fa2aa4",
   "metadata": {},
   "outputs": [
    {
     "data": {
      "text/plain": [
       "False"
      ]
     },
     "execution_count": 46,
     "metadata": {},
     "output_type": "execute_result"
    }
   ],
   "source": [
    "{1, 3, 5 } != {3, 5, 1}"
   ]
  },
  {
   "cell_type": "code",
   "execution_count": 47,
   "id": "96c56513-efc4-49bc-969e-32ca691c6507",
   "metadata": {},
   "outputs": [
    {
     "data": {
      "text/plain": [
       "False"
      ]
     },
     "execution_count": 47,
     "metadata": {},
     "output_type": "execute_result"
    }
   ],
   "source": [
    "{1, 3, 5 } > {3, 5, 1}"
   ]
  },
  {
   "cell_type": "code",
   "execution_count": 48,
   "id": "e2164e98-d7d8-42ff-8501-e8f60b102a53",
   "metadata": {},
   "outputs": [
    {
     "data": {
      "text/plain": [
       "True"
      ]
     },
     "execution_count": 48,
     "metadata": {},
     "output_type": "execute_result"
    }
   ],
   "source": [
    "{1, 3, 5 } < {3, 5, 1, 99}"
   ]
  },
  {
   "cell_type": "code",
   "execution_count": 49,
   "id": "0034f232-638d-42f3-90df-8fb11b214096",
   "metadata": {},
   "outputs": [
    {
     "data": {
      "text/plain": [
       "True"
      ]
     },
     "execution_count": 49,
     "metadata": {},
     "output_type": "execute_result"
    }
   ],
   "source": [
    "{1, 3, 5 } <= {3, 5, 1}"
   ]
  },
  {
   "cell_type": "code",
   "execution_count": 50,
   "id": "bd4c2f46-5883-47c8-8155-85038ea46872",
   "metadata": {},
   "outputs": [
    {
     "data": {
      "text/plain": [
       "True"
      ]
     },
     "execution_count": 50,
     "metadata": {},
     "output_type": "execute_result"
    }
   ],
   "source": [
    "{1, 3, } <= {3, 5, 1}"
   ]
  },
  {
   "cell_type": "code",
   "execution_count": 51,
   "id": "2634c823-06a8-4dd6-ac2a-433590158a3d",
   "metadata": {},
   "outputs": [
    {
     "data": {
      "text/plain": [
       "False"
      ]
     },
     "execution_count": 51,
     "metadata": {},
     "output_type": "execute_result"
    }
   ],
   "source": [
    "{1, 3, } >= {3, 5, 1}"
   ]
  },
  {
   "cell_type": "code",
   "execution_count": 52,
   "id": "73cb9ed2-3961-412a-b627-767887d604cf",
   "metadata": {},
   "outputs": [],
   "source": [
    "#issuperset: checks for an improper superset"
   ]
  },
  {
   "cell_type": "code",
   "execution_count": 53,
   "id": "5a74f9ea-45a2-41d9-a510-dce35efc8e4d",
   "metadata": {},
   "outputs": [
    {
     "data": {
      "text/plain": [
       "False"
      ]
     },
     "execution_count": 53,
     "metadata": {},
     "output_type": "execute_result"
    }
   ],
   "source": [
    "{1, 3, }.issuperset ({3, 5, 1})"
   ]
  },
  {
   "cell_type": "code",
   "execution_count": 54,
   "id": "f9455e31-64fa-4848-9198-9c5fc553d346",
   "metadata": {},
   "outputs": [
    {
     "data": {
      "text/plain": [
       "True"
      ]
     },
     "execution_count": 54,
     "metadata": {},
     "output_type": "execute_result"
    }
   ],
   "source": [
    "{1, 3, 5 } .issuperset({3, 5, 1})"
   ]
  },
  {
   "cell_type": "code",
   "execution_count": 55,
   "id": "c3988f92-d30c-484d-9447-c3273ad22b15",
   "metadata": {},
   "outputs": [],
   "source": [
    "#issubset can check for an inproper subset"
   ]
  },
  {
   "cell_type": "code",
   "execution_count": 56,
   "id": "3ff990dd-7b2c-4bcb-90c3-fa49a0dc033d",
   "metadata": {},
   "outputs": [
    {
     "data": {
      "text/plain": [
       "True"
      ]
     },
     "execution_count": 56,
     "metadata": {},
     "output_type": "execute_result"
    }
   ],
   "source": [
    "{1, 3,}.issubset ({3, 5, 1})"
   ]
  },
  {
   "cell_type": "code",
   "execution_count": 57,
   "id": "6784c7de-ff67-4aa9-8933-45830f18cc0e",
   "metadata": {},
   "outputs": [
    {
     "data": {
      "text/plain": [
       "True"
      ]
     },
     "execution_count": 57,
     "metadata": {},
     "output_type": "execute_result"
    }
   ],
   "source": [
    "{1, 3, 5 }.issubset({3, 5, 1})"
   ]
  },
  {
   "cell_type": "code",
   "execution_count": 58,
   "id": "4cca0165-b185-4bd2-97ce-77a7c209d944",
   "metadata": {},
   "outputs": [
    {
     "data": {
      "text/plain": [
       "False"
      ]
     },
     "execution_count": 58,
     "metadata": {},
     "output_type": "execute_result"
    }
   ],
   "source": [
    "{1, 3, 5 }.issubset({3, 9, 9})"
   ]
  },
  {
   "cell_type": "code",
   "execution_count": 59,
   "id": "889c0e95-0a72-4600-9ef1-3d2f0c2d360e",
   "metadata": {},
   "outputs": [
    {
     "data": {
      "text/plain": [
       "True"
      ]
     },
     "execution_count": 59,
     "metadata": {},
     "output_type": "execute_result"
    }
   ],
   "source": [
    "#self check\n",
    "\n",
    "#Q1-A. False. All comparison operators can be used to compare sets\n",
    "#Q2-A A subset is a proper subset of another set if all the subset's elements are in the other set and it has more elements\n",
    "\n",
    "#Q3-A\n",
    "\n",
    "set('abc def ghi jkl mno').issuperset('hi mom')"
   ]
  },
  {
   "cell_type": "code",
   "execution_count": 60,
   "id": "7119b35d-04be-451c-8b40-f8f6b9e33e08",
   "metadata": {},
   "outputs": [],
   "source": [
    "#6.3.2 Mathematical set operations"
   ]
  },
  {
   "cell_type": "code",
   "execution_count": 61,
   "id": "236b39e2-4f36-4213-b8cd-fc0563004091",
   "metadata": {},
   "outputs": [
    {
     "data": {
      "text/plain": [
       "{1, 2, 3, 4, 5}"
      ]
     },
     "execution_count": 61,
     "metadata": {},
     "output_type": "execute_result"
    }
   ],
   "source": [
    "#union\n",
    "#union of two sets is a set consisiting of all the unique elements from both sets. You can calculate the union with the | operator or with the set type's union method\n",
    "\n",
    "{1, 3, 5} | {2, 3, 4}"
   ]
  },
  {
   "cell_type": "code",
   "execution_count": 62,
   "id": "51216983-1570-4e32-a58b-3c8f0721ae73",
   "metadata": {},
   "outputs": [
    {
     "data": {
      "text/plain": [
       "{1, 3, 5, 23, 24, 333}"
      ]
     },
     "execution_count": 62,
     "metadata": {},
     "output_type": "execute_result"
    }
   ],
   "source": [
    "{1, 3, 5}.union([23, 333, 24])"
   ]
  },
  {
   "cell_type": "code",
   "execution_count": 63,
   "id": "7d083c9f-af2a-4dea-b9c0-160aa31ffa96",
   "metadata": {},
   "outputs": [
    {
     "data": {
      "text/plain": [
       "{3}"
      ]
     },
     "execution_count": 63,
     "metadata": {},
     "output_type": "execute_result"
    }
   ],
   "source": [
    "#intersection\n",
    "#intersection of two sets is a set consisting of all the unique elements that the two sets have in common. the & operate or  set type's intersection can be used\n",
    "{1, 3, 5} & {2, 3, 4}"
   ]
  },
  {
   "cell_type": "code",
   "execution_count": 64,
   "id": "dbfa7daa-0339-4a88-a098-c7f49be30ba7",
   "metadata": {},
   "outputs": [
    {
     "data": {
      "text/plain": [
       "{3, 5}"
      ]
     },
     "execution_count": 64,
     "metadata": {},
     "output_type": "execute_result"
    }
   ],
   "source": [
    "{1, 3, 5}.intersection([23, 333, 24, 3, 5, 5])"
   ]
  },
  {
   "cell_type": "code",
   "execution_count": 65,
   "id": "6dd99c58-b978-41f7-a5e7-d6e767d28552",
   "metadata": {},
   "outputs": [
    {
     "data": {
      "text/plain": [
       "{1, 5}"
      ]
     },
     "execution_count": 65,
     "metadata": {},
     "output_type": "execute_result"
    }
   ],
   "source": [
    "#difference\n",
    "#the difference between two sets is a set consisting of the elements in the left operand that are not in the right operand. This is done with the - or set type's difference method\n",
    "{1, 3, 5} - {2, 3, 4}"
   ]
  },
  {
   "cell_type": "code",
   "execution_count": 66,
   "id": "b6fae50e-cb46-43ec-b80e-c24de95c6383",
   "metadata": {},
   "outputs": [
    {
     "data": {
      "text/plain": [
       "{1}"
      ]
     },
     "execution_count": 66,
     "metadata": {},
     "output_type": "execute_result"
    }
   ],
   "source": [
    "{1, 3, 5}.difference([23, 333, 24, 3, 5, 5])"
   ]
  },
  {
   "cell_type": "code",
   "execution_count": 67,
   "id": "ff241cc5-0f03-41eb-8b0c-2fac172224d9",
   "metadata": {},
   "outputs": [
    {
     "data": {
      "text/plain": [
       "{1, 2, 4, 5}"
      ]
     },
     "execution_count": 67,
     "metadata": {},
     "output_type": "execute_result"
    }
   ],
   "source": [
    "#symmetric difference\n",
    "#symmetric difference is the difference between two sets consisteing of the elements both sets that are not in common with one another. This is done by the ^ operator or set type's symmetric_difference\n",
    "\n",
    "{1, 3, 5} ^ {2, 3, 4}"
   ]
  },
  {
   "cell_type": "code",
   "execution_count": 68,
   "id": "20f451d9-0910-415f-afd5-946ef5a9e361",
   "metadata": {},
   "outputs": [
    {
     "data": {
      "text/plain": [
       "{1, 23, 24, 333}"
      ]
     },
     "execution_count": 68,
     "metadata": {},
     "output_type": "execute_result"
    }
   ],
   "source": [
    "{1, 3, 5}.symmetric_difference([23, 333, 24, 3, 5, 5])"
   ]
  },
  {
   "cell_type": "code",
   "execution_count": 69,
   "id": "bcf4cfcb-729c-44a4-8c38-92023ec7b8bf",
   "metadata": {},
   "outputs": [
    {
     "data": {
      "text/plain": [
       "False"
      ]
     },
     "execution_count": 69,
     "metadata": {},
     "output_type": "execute_result"
    }
   ],
   "source": [
    "#Disjoint\n",
    "#two sets are disjoint if they do not have any common elements. this is done with set type's  isdisjoint\n",
    "{1, 3, 5}.isdisjoint([23, 333, 24, 3, 5, 5])"
   ]
  },
  {
   "cell_type": "code",
   "execution_count": 70,
   "id": "d58b7b6c-1bb6-4aad-9b68-ebbe46620330",
   "metadata": {},
   "outputs": [
    {
     "data": {
      "text/plain": [
       "True"
      ]
     },
     "execution_count": 70,
     "metadata": {},
     "output_type": "execute_result"
    }
   ],
   "source": [
    "{1, 3, 5}.isdisjoint({2, 6, 4})"
   ]
  },
  {
   "cell_type": "code",
   "execution_count": 71,
   "id": "a137e73b-1cd4-483d-8c6d-011d7848d11a",
   "metadata": {},
   "outputs": [
    {
     "data": {
      "text/plain": [
       "{30}"
      ]
     },
     "execution_count": 71,
     "metadata": {},
     "output_type": "execute_result"
    }
   ],
   "source": [
    "#self check\n",
    "#Q1-A two sets are disjoint if they do not have any common elements\n",
    "#Q2\n",
    "\n",
    "#a\n",
    "\n",
    "{10, 20, 30} - {5, 20, 10, 15}"
   ]
  },
  {
   "cell_type": "code",
   "execution_count": 72,
   "id": "c1f3f911-8a9d-4a5b-aa73-2b85a9581876",
   "metadata": {},
   "outputs": [
    {
     "data": {
      "text/plain": [
       "{5, 15, 30}"
      ]
     },
     "execution_count": 72,
     "metadata": {},
     "output_type": "execute_result"
    }
   ],
   "source": [
    "#b\n",
    "{10, 20, 30} ^ {5, 20, 10, 15}\n"
   ]
  },
  {
   "cell_type": "code",
   "execution_count": 73,
   "id": "256cca8c-c6fc-4978-b563-5c007bd52ca0",
   "metadata": {},
   "outputs": [
    {
     "data": {
      "text/plain": [
       "{5, 10, 15, 20, 30}"
      ]
     },
     "execution_count": 73,
     "metadata": {},
     "output_type": "execute_result"
    }
   ],
   "source": [
    "#c\n",
    "{10, 20, 30} | {5, 20, 10, 15}\n"
   ]
  },
  {
   "cell_type": "code",
   "execution_count": 74,
   "id": "5984a481-bac2-4c79-99df-e090e7536b13",
   "metadata": {},
   "outputs": [
    {
     "data": {
      "text/plain": [
       "{10, 20}"
      ]
     },
     "execution_count": 74,
     "metadata": {},
     "output_type": "execute_result"
    }
   ],
   "source": [
    "{10, 20, 30} & {5, 20, 10, 15}"
   ]
  },
  {
   "cell_type": "code",
   "execution_count": 75,
   "id": "40403629-3cec-48eb-b186-73656eeb5f5c",
   "metadata": {},
   "outputs": [],
   "source": [
    "#6.3.3 mutable set operators and methods"
   ]
  },
  {
   "cell_type": "code",
   "execution_count": 76,
   "id": "00a124db-7ab2-4834-a059-3f4f9f117810",
   "metadata": {},
   "outputs": [
    {
     "data": {
      "text/plain": [
       "{1, 2, 4, 5, 6}"
      ]
     },
     "execution_count": 76,
     "metadata": {},
     "output_type": "execute_result"
    }
   ],
   "source": [
    "#union augment assignment( |=) performs a set union operation, but modifies its left operand\n",
    "\n",
    "numbers = {1, 4, 5}\n",
    "\n",
    "numbers |= {2, 5, 6}\n",
    "\n",
    "numbers"
   ]
  },
  {
   "cell_type": "code",
   "execution_count": 77,
   "id": "9411b527-a99f-4550-af95-2fc0bebc5ed0",
   "metadata": {},
   "outputs": [
    {
     "data": {
      "text/plain": [
       "{1, 2, 4, 5, 6, 17}"
      ]
     },
     "execution_count": 77,
     "metadata": {},
     "output_type": "execute_result"
    }
   ],
   "source": [
    "#methods for adding and removing elements\n",
    "\n",
    "numbers.add(17)\n",
    "\n",
    "numbers"
   ]
  },
  {
   "cell_type": "code",
   "execution_count": 78,
   "id": "898b5b38-2a42-4d42-ba70-99ecee4e47ac",
   "metadata": {},
   "outputs": [],
   "source": [
    "#add inserts its argument if the argument is not already in the set otherwise it remains unchanges"
   ]
  },
  {
   "cell_type": "code",
   "execution_count": 79,
   "id": "c1efa43f-fbd4-45b5-87c7-4a1974572417",
   "metadata": {},
   "outputs": [],
   "source": [
    "#remove... removes its argument from the set a key error will occur if the value is not in the set\n",
    "\n",
    "numbers.remove(5)"
   ]
  },
  {
   "cell_type": "code",
   "execution_count": 80,
   "id": "6835a010-ffd3-4946-8c44-bfef8830eb19",
   "metadata": {},
   "outputs": [
    {
     "data": {
      "text/plain": [
       "{1, 2, 4, 6, 17}"
      ]
     },
     "execution_count": 80,
     "metadata": {},
     "output_type": "execute_result"
    }
   ],
   "source": [
    "numbers"
   ]
  },
  {
   "cell_type": "code",
   "execution_count": 81,
   "id": "6e7642a5-fcd5-470c-8b02-2ab72dd042e0",
   "metadata": {},
   "outputs": [],
   "source": [
    "#discard also removes its argument from the set but does not cause an exception if it is not in the set\n",
    "\n",
    "numbers.discard(27)\n",
    "\n",
    "#no error occurs"
   ]
  },
  {
   "cell_type": "code",
   "execution_count": null,
   "id": "8f773970-d176-42ca-9e53-42583ab71326",
   "metadata": {},
   "outputs": [],
   "source": [
    "#you can also remove an element and return it with pop, but sets are unorders, so you do not know which element will be returned"
   ]
  },
  {
   "cell_type": "code",
   "execution_count": 82,
   "id": "b934e3e2-0e9d-4b9f-a570-ddc2a1f3684c",
   "metadata": {},
   "outputs": [
    {
     "data": {
      "text/plain": [
       "set()"
      ]
     },
     "execution_count": 82,
     "metadata": {},
     "output_type": "execute_result"
    }
   ],
   "source": [
    "#clear empties the set on which its called\n",
    "numbers.clear()\n",
    "\n",
    "numbers"
   ]
  },
  {
   "cell_type": "code",
   "execution_count": null,
   "id": "cfdfab47-82d0-4f71-bd11-0194a41491d1",
   "metadata": {},
   "outputs": [],
   "source": [
    "#self check\n",
    "#Q1-A. Set method pop returns an arbitrary set element\n",
    "#Q2-A set method update performs a union operation, modifying the set on which its called"
   ]
  },
  {
   "cell_type": "code",
   "execution_count": 85,
   "id": "64b675a9-eae1-40a0-bee2-2b19c0df78a3",
   "metadata": {},
   "outputs": [
    {
     "data": {
      "text/plain": [
       "{2, 4, 6, 8, 10}"
      ]
     },
     "execution_count": 85,
     "metadata": {},
     "output_type": "execute_result"
    }
   ],
   "source": [
    "#6.3.4 Set comprehensions\n",
    "\n",
    "numbers = [1, 2, 2, 2, 3, 4, 5, 6, 6, 7, 9, 8, 8, 8, 10]\n",
    "\n",
    "evens = {item for item in numbers if item %2 == 0}\n",
    "\n",
    "evens"
   ]
  },
  {
   "cell_type": "code",
   "execution_count": null,
   "id": "92b6958d-a257-4547-8567-ecad7fbb0f8e",
   "metadata": {},
   "outputs": [],
   "source": [
    "Mike Abbinante Sets end"
   ]
  }
 ],
 "metadata": {
  "kernelspec": {
   "display_name": "Python 3 (ipykernel)",
   "language": "python",
   "name": "python3"
  },
  "language_info": {
   "codemirror_mode": {
    "name": "ipython",
    "version": 3
   },
   "file_extension": ".py",
   "mimetype": "text/x-python",
   "name": "python",
   "nbconvert_exporter": "python",
   "pygments_lexer": "ipython3",
   "version": "3.9.12"
  }
 },
 "nbformat": 4,
 "nbformat_minor": 5
}
