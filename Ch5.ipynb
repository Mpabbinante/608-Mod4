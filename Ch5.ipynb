{
 "cells": [
  {
   "cell_type": "markdown",
   "id": "fcc51e6d-9f44-4b48-b29f-3f89e3466fe8",
   "metadata": {},
   "source": [
    "Mike Abbinante Ch.5"
   ]
  },
  {
   "cell_type": "markdown",
   "id": "a423442a-aeb4-4aa4-8929-c984eda2cf87",
   "metadata": {},
   "source": [
    "5.2 Lists"
   ]
  },
  {
   "cell_type": "code",
   "execution_count": 1,
   "id": "9dfdbaf7-1047-4179-acb2-429318a936b0",
   "metadata": {},
   "outputs": [],
   "source": [
    "#lists typically store homogenous data(values of the same data type)\n",
    "#not: lists start at 0\n",
    "#lists can also store heterogenous data (data of different types)\n",
    "#Elements in a list can be recalled by adding its (index) position number in [] \n",
    "#lists can be accessed in reverse using negative numbers"
   ]
  },
  {
   "cell_type": "code",
   "execution_count": 2,
   "id": "edd2a044-1dbb-4020-bf4e-e3b121c7755f",
   "metadata": {},
   "outputs": [
    {
     "data": {
      "text/plain": [
       "[32, 5, 6, 7, 8, 8, 987, 7]"
      ]
     },
     "execution_count": 2,
     "metadata": {},
     "output_type": "execute_result"
    }
   ],
   "source": [
    "a=[32, 5 ,6 ,7 ,8 , 8, 987, 7]\n",
    "\n",
    "a"
   ]
  },
  {
   "cell_type": "code",
   "execution_count": 3,
   "id": "598d8288-c924-467a-a379-9737914e6db7",
   "metadata": {},
   "outputs": [
    {
     "data": {
      "text/plain": [
       "7"
      ]
     },
     "execution_count": 3,
     "metadata": {},
     "output_type": "execute_result"
    }
   ],
   "source": [
    "a[3]"
   ]
  },
  {
   "cell_type": "code",
   "execution_count": 4,
   "id": "b6cbf063-99f2-4e76-9cbd-a7adc125c9e8",
   "metadata": {},
   "outputs": [
    {
     "data": {
      "text/plain": [
       "8"
      ]
     },
     "execution_count": 4,
     "metadata": {},
     "output_type": "execute_result"
    }
   ],
   "source": [
    "len(a)"
   ]
  },
  {
   "cell_type": "code",
   "execution_count": 5,
   "id": "d59706a9-1a99-4d87-bb62-10fbdf48ef6b",
   "metadata": {},
   "outputs": [
    {
     "data": {
      "text/plain": [
       "8"
      ]
     },
     "execution_count": 5,
     "metadata": {},
     "output_type": "execute_result"
    }
   ],
   "source": [
    "a[-4]"
   ]
  },
  {
   "cell_type": "code",
   "execution_count": 6,
   "id": "7d9f8af6-e23f-4ea5-a5d6-8cb99a363dfe",
   "metadata": {},
   "outputs": [
    {
     "data": {
      "text/plain": [
       "8"
      ]
     },
     "execution_count": 6,
     "metadata": {},
     "output_type": "execute_result"
    }
   ],
   "source": [
    "a[4]"
   ]
  },
  {
   "cell_type": "code",
   "execution_count": 7,
   "id": "eca0bc89-7bc8-480a-bf11-e46d3201e1b3",
   "metadata": {},
   "outputs": [
    {
     "data": {
      "text/plain": [
       "7"
      ]
     },
     "execution_count": 7,
     "metadata": {},
     "output_type": "execute_result"
    }
   ],
   "source": [
    "a[7]"
   ]
  },
  {
   "cell_type": "code",
   "execution_count": 8,
   "id": "6431819c-a768-41e1-8876-fb481fafd527",
   "metadata": {},
   "outputs": [
    {
     "data": {
      "text/plain": [
       "5"
      ]
     },
     "execution_count": 8,
     "metadata": {},
     "output_type": "execute_result"
    }
   ],
   "source": [
    "a[-7]"
   ]
  },
  {
   "cell_type": "code",
   "execution_count": 9,
   "id": "58380183-02e4-4369-aa9d-5ce6b6e4e9af",
   "metadata": {},
   "outputs": [
    {
     "data": {
      "text/plain": [
       "5"
      ]
     },
     "execution_count": 9,
     "metadata": {},
     "output_type": "execute_result"
    }
   ],
   "source": [
    "a[1]"
   ]
  },
  {
   "cell_type": "code",
   "execution_count": 10,
   "id": "7d641ad1-44f2-4c49-804d-4f7e411e4e5f",
   "metadata": {},
   "outputs": [],
   "source": [
    "#lists are mutable(elements can be modified)"
   ]
  },
  {
   "cell_type": "code",
   "execution_count": 11,
   "id": "c0779d3c-7938-44ee-aaef-72c0a3707da7",
   "metadata": {},
   "outputs": [],
   "source": [
    "a[4]=12"
   ]
  },
  {
   "cell_type": "code",
   "execution_count": 12,
   "id": "0d21cf56-997b-4930-a493-69ef388b77e7",
   "metadata": {},
   "outputs": [
    {
     "data": {
      "text/plain": [
       "[32, 5, 6, 7, 12, 8, 987, 7]"
      ]
     },
     "execution_count": 12,
     "metadata": {},
     "output_type": "execute_result"
    }
   ],
   "source": [
    "a"
   ]
  },
  {
   "cell_type": "code",
   "execution_count": 13,
   "id": "376175fc-5d0e-4c4e-8761-49289248032b",
   "metadata": {},
   "outputs": [],
   "source": [
    "a[3]=43"
   ]
  },
  {
   "cell_type": "code",
   "execution_count": 14,
   "id": "c8c8a7eb-e7de-4dc2-b95a-da3c1d867c76",
   "metadata": {},
   "outputs": [],
   "source": [
    "a[-2]=9"
   ]
  },
  {
   "cell_type": "code",
   "execution_count": 15,
   "id": "eba2d563-272d-465f-885f-5326240d67c4",
   "metadata": {},
   "outputs": [
    {
     "data": {
      "text/plain": [
       "[32, 5, 6, 43, 12, 8, 9, 7]"
      ]
     },
     "execution_count": 15,
     "metadata": {},
     "output_type": "execute_result"
    }
   ],
   "source": [
    "a"
   ]
  },
  {
   "cell_type": "code",
   "execution_count": 16,
   "id": "a576936a-c8a6-4186-bffb-1d114e3c9bac",
   "metadata": {},
   "outputs": [],
   "source": [
    "#some sequences are immutable(cannot be modified)"
   ]
  },
  {
   "cell_type": "code",
   "execution_count": 17,
   "id": "24201c2e-3269-46e1-a43d-17462825ef83",
   "metadata": {},
   "outputs": [
    {
     "data": {
      "text/plain": [
       "'b'"
      ]
     },
     "execution_count": 17,
     "metadata": {},
     "output_type": "execute_result"
    }
   ],
   "source": [
    "#ex\n",
    "\n",
    "s = 'banana'\n",
    "s[0]"
   ]
  },
  {
   "cell_type": "code",
   "execution_count": 18,
   "id": "66d333ac-1418-4715-b868-e861d1a57555",
   "metadata": {},
   "outputs": [],
   "source": [
    "#s[0] = 'B'\n",
    "#note: gives an error (words can't be changed?)"
   ]
  },
  {
   "cell_type": "code",
   "execution_count": 19,
   "id": "c61d0129-a59c-4bc2-8d42-64a2b1a0bd0a",
   "metadata": {},
   "outputs": [],
   "source": [
    "#a[999]\n",
    "#note: gives error because it is out of the range of list a"
   ]
  },
  {
   "cell_type": "code",
   "execution_count": 20,
   "id": "1aa5025b-09dc-4849-ace8-d81d757fc939",
   "metadata": {},
   "outputs": [
    {
     "data": {
      "text/plain": [
       "[1, 2, 43, 44, 555, 12, 7]"
      ]
     },
     "execution_count": 20,
     "metadata": {},
     "output_type": "execute_result"
    }
   ],
   "source": [
    "b=[1, 2, 43, 44, 555, 12, 7]\n",
    "b"
   ]
  },
  {
   "cell_type": "code",
   "execution_count": 21,
   "id": "b2d826b7-4490-436c-b52d-36d1d5faf4d7",
   "metadata": {},
   "outputs": [
    {
     "name": "stdout",
     "output_type": "stream",
     "text": [
      "[32, 5, 6, 43, 12, 8, 9, 7, 1, 2, 43, 44, 555, 12, 7]\n"
     ]
    }
   ],
   "source": [
    "print(a + b)\n",
    "#note: adds b list to end of a list\n",
    "#this is a concetenate list(two tuples or string using the + operator"
   ]
  },
  {
   "cell_type": "code",
   "execution_count": 22,
   "id": "b6849a71-af40-4cb2-8ede-9cef2e662970",
   "metadata": {},
   "outputs": [
    {
     "data": {
      "text/plain": [
       "555"
      ]
     },
     "execution_count": 22,
     "metadata": {},
     "output_type": "execute_result"
    }
   ],
   "source": [
    "(a+b)[12]"
   ]
  },
  {
   "cell_type": "code",
   "execution_count": 23,
   "id": "326e93f2-445d-4060-8f0a-d2d3a204edb1",
   "metadata": {},
   "outputs": [
    {
     "data": {
      "text/plain": [
       "[32, 5, 6, 43, 12, 8, 9, 7, 1, 2, 43, 44, 555, 12, 7]"
      ]
     },
     "execution_count": 23,
     "metadata": {},
     "output_type": "execute_result"
    }
   ],
   "source": [
    "concatended_list = a+b\n",
    "\n",
    "concatended_list "
   ]
  },
  {
   "cell_type": "code",
   "execution_count": 24,
   "id": "186429f0-a77f-4187-95eb-90f47af21f43",
   "metadata": {},
   "outputs": [
    {
     "name": "stdout",
     "output_type": "stream",
     "text": [
      "0: 32\n",
      "1: 5\n",
      "2: 6\n",
      "3: 43\n",
      "4: 12\n",
      "5: 8\n",
      "6: 9\n",
      "7: 7\n",
      "8: 1\n",
      "9: 2\n",
      "10: 43\n",
      "11: 44\n",
      "12: 555\n",
      "13: 12\n",
      "14: 7\n"
     ]
    }
   ],
   "source": [
    "for i in range(len(concatended_list)):\n",
    "    print(f'{i}: {concatended_list[i]}')\n",
    "    "
   ]
  },
  {
   "cell_type": "markdown",
   "id": "04d13c60-1b94-4d89-a0ab-f541b16df2da",
   "metadata": {},
   "source": [
    "5.2 SELF CHECK\n",
    "1)python's string and tuple sequences are immutable(they cannot be modified)\n",
    "2)The + operator sequence must have the same type otherwise an error will occur"
   ]
  },
  {
   "cell_type": "code",
   "execution_count": 25,
   "id": "0c6cf0d1-da96-4667-af2a-10b98b4f8c0d",
   "metadata": {},
   "outputs": [
    {
     "data": {
      "text/plain": [
       "[1, 8, 27, 64, 125, 216, 343, 512, 729, 1000]"
      ]
     },
     "execution_count": 25,
     "metadata": {},
     "output_type": "execute_result"
    }
   ],
   "source": [
    "#3 - Mike Abbinante\n",
    "\n",
    "def cube_list(values):\n",
    "    for a in range(len(values)):\n",
    "        values[a] **= 3\n",
    "\n",
    "numbers = [1,2,3,4,5,6,7,8,9,10]\n",
    "\n",
    "cube_list(numbers)\n",
    "\n",
    "numbers"
   ]
  },
  {
   "cell_type": "code",
   "execution_count": 26,
   "id": "b380ae5d-9bbb-4ba0-ac3b-0f577248843c",
   "metadata": {},
   "outputs": [
    {
     "data": {
      "text/plain": [
       "['3',\n",
       " ' ',\n",
       " 'B',\n",
       " 'l',\n",
       " 'i',\n",
       " 'm',\n",
       " 'p',\n",
       " 's',\n",
       " ' ',\n",
       " 'i',\n",
       " 'n',\n",
       " ' ',\n",
       " 'a',\n",
       " ' ',\n",
       " 'p',\n",
       " 'a',\n",
       " 'r',\n",
       " 'a',\n",
       " 'd',\n",
       " 'e']"
      ]
     },
     "execution_count": 26,
     "metadata": {},
     "output_type": "execute_result"
    }
   ],
   "source": [
    "#4\n",
    "\n",
    "characters = []\n",
    "\n",
    "characters += '3 Blimps in a parade'\n",
    "\n",
    "characters"
   ]
  },
  {
   "cell_type": "code",
   "execution_count": 27,
   "id": "62b799d3-0d02-4c68-b09a-0d319bfbe5c7",
   "metadata": {},
   "outputs": [
    {
     "data": {
      "text/plain": [
       "False"
      ]
     },
     "execution_count": 27,
     "metadata": {},
     "output_type": "execute_result"
    }
   ],
   "source": [
    "\n",
    "a = [1, 2 , 3 , 5 , 4]\n",
    "b = [1, 33, 43, 6, 9]\n",
    "c = [1, 2, 3, 5, 4]\n",
    "\n",
    "a==b"
   ]
  },
  {
   "cell_type": "code",
   "execution_count": 28,
   "id": "afb89c43-a38e-420b-8c1d-81345532164b",
   "metadata": {},
   "outputs": [
    {
     "data": {
      "text/plain": [
       "False"
      ]
     },
     "execution_count": 28,
     "metadata": {},
     "output_type": "execute_result"
    }
   ],
   "source": [
    "a < c"
   ]
  },
  {
   "cell_type": "code",
   "execution_count": 29,
   "id": "9ccf1609-e513-4adc-a081-375b550b9093",
   "metadata": {},
   "outputs": [
    {
     "data": {
      "text/plain": [
       "True"
      ]
     },
     "execution_count": 29,
     "metadata": {},
     "output_type": "execute_result"
    }
   ],
   "source": [
    "a == c"
   ]
  },
  {
   "cell_type": "code",
   "execution_count": 30,
   "id": "16b8328d-a180-4b1b-b34e-41103708cb34",
   "metadata": {},
   "outputs": [
    {
     "data": {
      "text/plain": [
       "False"
      ]
     },
     "execution_count": 30,
     "metadata": {},
     "output_type": "execute_result"
    }
   ],
   "source": [
    "c >= b"
   ]
  },
  {
   "cell_type": "code",
   "execution_count": 31,
   "id": "b48fa5d0-c92b-405d-995f-01ed684b6616",
   "metadata": {},
   "outputs": [],
   "source": [
    "#Mike Abbinante"
   ]
  },
  {
   "cell_type": "markdown",
   "id": "25d242ae-f25d-409f-a2fa-8227a0a984f4",
   "metadata": {},
   "source": [
    "5.3 Create a tuple"
   ]
  },
  {
   "cell_type": "code",
   "execution_count": 32,
   "id": "bccc7221-df07-49db-93cc-e43648a3ef7b",
   "metadata": {},
   "outputs": [
    {
     "data": {
      "text/plain": [
       "()"
      ]
     },
     "execution_count": 32,
     "metadata": {},
     "output_type": "execute_result"
    }
   ],
   "source": [
    "#creating tuples\n",
    "fruit_tuple = ()\n",
    "\n",
    "fruit_tuple"
   ]
  },
  {
   "cell_type": "code",
   "execution_count": 33,
   "id": "343f4e1c-145d-4c30-8a09-90540c130b97",
   "metadata": {},
   "outputs": [
    {
     "data": {
      "text/plain": [
       "0"
      ]
     },
     "execution_count": 33,
     "metadata": {},
     "output_type": "execute_result"
    }
   ],
   "source": [
    "len(fruit_tuple)"
   ]
  },
  {
   "cell_type": "code",
   "execution_count": 34,
   "id": "dbf9310e-3179-4ca0-bd23-89e803b0f3bd",
   "metadata": {},
   "outputs": [],
   "source": [
    "fruit_tuple = ('cherry', 'orange', '12.2')"
   ]
  },
  {
   "cell_type": "code",
   "execution_count": 35,
   "id": "eb4ce870-6005-4006-ae59-f637e87ceee3",
   "metadata": {},
   "outputs": [
    {
     "data": {
      "text/plain": [
       "3"
      ]
     },
     "execution_count": 35,
     "metadata": {},
     "output_type": "execute_result"
    }
   ],
   "source": [
    "len(fruit_tuple)"
   ]
  },
  {
   "cell_type": "code",
   "execution_count": 36,
   "id": "8ad4ddf6-0064-4a56-a4ee-00b5ef913dfb",
   "metadata": {},
   "outputs": [],
   "source": [
    "another_fruit_tuple = ('watermelon', 'apple', '12.2')"
   ]
  },
  {
   "cell_type": "code",
   "execution_count": 37,
   "id": "9f71ffbf-66ec-41ed-8d16-f74d63781e5a",
   "metadata": {},
   "outputs": [],
   "source": [
    "single_fruit_tuple = ('watermelon',)"
   ]
  },
  {
   "cell_type": "code",
   "execution_count": 38,
   "id": "441aa69a-902d-4278-9811-7691c510c803",
   "metadata": {},
   "outputs": [
    {
     "data": {
      "text/plain": [
       "('watermelon',)"
      ]
     },
     "execution_count": 38,
     "metadata": {},
     "output_type": "execute_result"
    }
   ],
   "source": [
    "single_fruit_tuple"
   ]
  },
  {
   "cell_type": "code",
   "execution_count": 39,
   "id": "b6a782c1-53c0-43bd-8b9b-51016d1783bc",
   "metadata": {},
   "outputs": [
    {
     "data": {
      "text/plain": [
       "(12, 9, 7)"
      ]
     },
     "execution_count": 39,
     "metadata": {},
     "output_type": "execute_result"
    }
   ],
   "source": [
    "#accessing tuple elements\n",
    "\n",
    "time_tuple= (12, 9, 7) \n",
    "\n",
    "time_tuple"
   ]
  },
  {
   "cell_type": "code",
   "execution_count": 40,
   "id": "f0ff5de7-6226-463c-bf85-1e9a227ae461",
   "metadata": {},
   "outputs": [
    {
     "data": {
      "text/plain": [
       "43747"
      ]
     },
     "execution_count": 40,
     "metadata": {},
     "output_type": "execute_result"
    }
   ],
   "source": [
    "time_tuple[0] *3600 + time_tuple[1] *60 + time_tuple[2]"
   ]
  },
  {
   "cell_type": "code",
   "execution_count": 41,
   "id": "d480dd08-f97c-4f0c-97eb-49caa16f5617",
   "metadata": {},
   "outputs": [
    {
     "data": {
      "text/plain": [
       "(1, 3, 5)"
      ]
     },
     "execution_count": 41,
     "metadata": {},
     "output_type": "execute_result"
    }
   ],
   "source": [
    "#adding to a string or tuple\n",
    "tuple1 = (1, 3, 5)\n",
    "\n",
    "tuple2 = tuple1\n",
    "\n",
    "tuple2"
   ]
  },
  {
   "cell_type": "code",
   "execution_count": 42,
   "id": "5e8aea6c-6e16-4b8b-9a4b-79ea2d345e01",
   "metadata": {},
   "outputs": [
    {
     "data": {
      "text/plain": [
       "(1, 3, 5, 32, 5)"
      ]
     },
     "execution_count": 42,
     "metadata": {},
     "output_type": "execute_result"
    }
   ],
   "source": [
    "tuple1 += (32, 5)\n",
    "\n",
    "tuple1"
   ]
  },
  {
   "cell_type": "code",
   "execution_count": 43,
   "id": "ee0e025d-d41d-45e1-8038-9d438376abfd",
   "metadata": {},
   "outputs": [
    {
     "data": {
      "text/plain": [
       "(1, 3, 5)"
      ]
     },
     "execution_count": 43,
     "metadata": {},
     "output_type": "execute_result"
    }
   ],
   "source": [
    "tuple2"
   ]
  },
  {
   "cell_type": "code",
   "execution_count": 44,
   "id": "e04b121c-a0b8-4f5c-ab71-f92c7b4aad9d",
   "metadata": {},
   "outputs": [
    {
     "data": {
      "text/plain": [
       "(1, 2, 3, 4, 5, 6)"
      ]
     },
     "execution_count": 44,
     "metadata": {},
     "output_type": "execute_result"
    }
   ],
   "source": [
    "#note: use += to append(add ta a list)\n",
    "\n",
    "numbers=(1,2,3,4,5,6)\n",
    "\n",
    "numbers "
   ]
  },
  {
   "cell_type": "code",
   "execution_count": 45,
   "id": "52ea64a3-c1e0-49df-b380-0cb98a1e756c",
   "metadata": {},
   "outputs": [],
   "source": [
    "numbers += (23,444,5)"
   ]
  },
  {
   "cell_type": "code",
   "execution_count": 46,
   "id": "6ade39c2-efd5-4888-b014-aca3c90891a4",
   "metadata": {},
   "outputs": [
    {
     "data": {
      "text/plain": [
       "(1, 2, 3, 4, 5, 6, 23, 444, 5)"
      ]
     },
     "execution_count": 46,
     "metadata": {},
     "output_type": "execute_result"
    }
   ],
   "source": [
    "numbers"
   ]
  },
  {
   "cell_type": "code",
   "execution_count": 47,
   "id": "9295ef41-b569-4d47-b675-74d7dd6baf97",
   "metadata": {},
   "outputs": [],
   "source": [
    "#tuples may contain mutable objects\n",
    "\n",
    "student_tuple = ('Greg', 'Amy', [23, 5, 6]) "
   ]
  },
  {
   "cell_type": "code",
   "execution_count": 48,
   "id": "4de713f3-95b6-4477-9e23-37cb3eda9249",
   "metadata": {},
   "outputs": [],
   "source": [
    "student_tuple[2][1] = 4"
   ]
  },
  {
   "cell_type": "code",
   "execution_count": 49,
   "id": "bf37fa50-50f4-4215-8f6d-2db3a06ee872",
   "metadata": {},
   "outputs": [
    {
     "data": {
      "text/plain": [
       "('Greg', 'Amy', [23, 4, 6])"
      ]
     },
     "execution_count": 49,
     "metadata": {},
     "output_type": "execute_result"
    }
   ],
   "source": [
    "student_tuple"
   ]
  },
  {
   "cell_type": "code",
   "execution_count": 50,
   "id": "2244adbb-154f-44ba-81ff-5a4d408bdadf",
   "metadata": {},
   "outputs": [],
   "source": [
    "#note: Python views --student_tuple[2]-- as the element of the tuple containing the list [23, 5, 6] then uses[1] to access the element containing 5 then replaces it with 4"
   ]
  },
  {
   "cell_type": "markdown",
   "id": "45ecae32-62e2-4930-b89a-1e7389295523",
   "metadata": {},
   "source": [
    "5.4 unpacking sequences"
   ]
  },
  {
   "cell_type": "code",
   "execution_count": 51,
   "id": "e6daa752-02ea-4358-88b0-c479f57efa78",
   "metadata": {},
   "outputs": [],
   "source": [
    "student_tuple = ('Amanda', [98, 85, 87])"
   ]
  },
  {
   "cell_type": "code",
   "execution_count": 52,
   "id": "8a8542b2-6df2-4d0f-aaa6-4f8890ae6686",
   "metadata": {},
   "outputs": [],
   "source": [
    "first_name, grades = student_tuple"
   ]
  },
  {
   "cell_type": "code",
   "execution_count": 53,
   "id": "dcb24fa8-016c-4ad4-8fc6-b04596842267",
   "metadata": {},
   "outputs": [
    {
     "data": {
      "text/plain": [
       "'Amanda'"
      ]
     },
     "execution_count": 53,
     "metadata": {},
     "output_type": "execute_result"
    }
   ],
   "source": [
    "first_name"
   ]
  },
  {
   "cell_type": "code",
   "execution_count": 54,
   "id": "a23c1379-a984-4838-94bb-8e285bc77afa",
   "metadata": {},
   "outputs": [
    {
     "data": {
      "text/plain": [
       "[98, 85, 87]"
      ]
     },
     "execution_count": 54,
     "metadata": {},
     "output_type": "execute_result"
    }
   ],
   "source": [
    "grades"
   ]
  },
  {
   "cell_type": "code",
   "execution_count": 55,
   "id": "35f1965d-c4a8-4dc0-9f50-515b7025c718",
   "metadata": {},
   "outputs": [
    {
     "name": "stdout",
     "output_type": "stream",
     "text": [
      "H i\n"
     ]
    }
   ],
   "source": [
    "one, two = 'Hi'\n",
    "print(f'{one} {two}')"
   ]
  },
  {
   "cell_type": "code",
   "execution_count": 56,
   "id": "155381f2-115c-44f6-ba21-a03a73bbba0f",
   "metadata": {},
   "outputs": [
    {
     "name": "stdout",
     "output_type": "stream",
     "text": [
      "1 3 4\n"
     ]
    }
   ],
   "source": [
    "number1, number2, number3 = [1, 3, 4]\n",
    "\n",
    "print(f'{number1} {number2} {number3}')"
   ]
  },
  {
   "cell_type": "code",
   "execution_count": 57,
   "id": "29206e67-3042-4d41-b901-68d5ce65d723",
   "metadata": {},
   "outputs": [
    {
     "name": "stdout",
     "output_type": "stream",
     "text": [
      "10 20 30\n"
     ]
    }
   ],
   "source": [
    "number1, number2, number3 = range(10, 40, 10)\n",
    "\n",
    "print(f'{number1} {number2} {number3}')"
   ]
  },
  {
   "cell_type": "code",
   "execution_count": 58,
   "id": "c191732e-d67b-41f5-9e14-e09ff23f7c67",
   "metadata": {},
   "outputs": [
    {
     "name": "stdout",
     "output_type": "stream",
     "text": [
      "number1 = 22; number2 =99\n"
     ]
    }
   ],
   "source": [
    "#swapping values\n",
    "number1= 99\n",
    "number2= 22\n",
    "number1, number2 = (number2, number1)\n",
    "\n",
    "print(f'number1 = {number1}; number2 ={number2}')"
   ]
  },
  {
   "cell_type": "code",
   "execution_count": 59,
   "id": "fd143014-fb3f-4054-9edc-fc8a2fd58c53",
   "metadata": {},
   "outputs": [
    {
     "name": "stdout",
     "output_type": "stream",
     "text": [
      "The two types of vehicles are Trucks and Sedans\n"
     ]
    }
   ],
   "source": [
    "vehicles = ('Trucks', [22], 'Sedans', [12])\n",
    "\n",
    "type1, number_of_Trucks, type2, number_of_Sedans = vehicles\n",
    "print(f'The two types of vehicles are {type1} and {type2}')"
   ]
  },
  {
   "cell_type": "code",
   "execution_count": 60,
   "id": "c784c702-c735-4e39-b5ce-0d3d6c79dceb",
   "metadata": {},
   "outputs": [
    {
     "name": "stdout",
     "output_type": "stream",
     "text": [
      "There are [22] Trucks and [12] Sedans\n"
     ]
    }
   ],
   "source": [
    "print(f'There are {number_of_Trucks} {type1} and {number_of_Sedans} {type2}')"
   ]
  },
  {
   "cell_type": "code",
   "execution_count": 61,
   "id": "31899cf9-6c92-4547-af16-24e576bf9a15",
   "metadata": {},
   "outputs": [
    {
     "data": {
      "text/plain": [
       "'Trucks'"
      ]
     },
     "execution_count": 61,
     "metadata": {},
     "output_type": "execute_result"
    }
   ],
   "source": [
    "type1"
   ]
  },
  {
   "cell_type": "code",
   "execution_count": 62,
   "id": "fffbc0bc-c7bc-41e3-8484-68034b5e1d78",
   "metadata": {},
   "outputs": [
    {
     "data": {
      "text/plain": [
       "'Sedans'"
      ]
     },
     "execution_count": 62,
     "metadata": {},
     "output_type": "execute_result"
    }
   ],
   "source": [
    "type2"
   ]
  },
  {
   "cell_type": "code",
   "execution_count": 63,
   "id": "1a8839c5-236e-459c-95af-816e45fdcd10",
   "metadata": {},
   "outputs": [
    {
     "data": {
      "text/plain": [
       "[22]"
      ]
     },
     "execution_count": 63,
     "metadata": {},
     "output_type": "execute_result"
    }
   ],
   "source": [
    "number_of_Trucks"
   ]
  },
  {
   "cell_type": "code",
   "execution_count": 64,
   "id": "33a784db-df33-465f-a745-b590e9f39caf",
   "metadata": {},
   "outputs": [
    {
     "data": {
      "text/plain": [
       "[12]"
      ]
     },
     "execution_count": 64,
     "metadata": {},
     "output_type": "execute_result"
    }
   ],
   "source": [
    "number_of_Sedans"
   ]
  },
  {
   "cell_type": "code",
   "execution_count": 65,
   "id": "999b326c-cc90-452e-b8bd-2d7a41728daa",
   "metadata": {},
   "outputs": [],
   "source": [
    "#Mike Abbinante"
   ]
  },
  {
   "cell_type": "code",
   "execution_count": 66,
   "id": "bc73edc1-fd31-4c4d-ac7b-6416decb0353",
   "metadata": {},
   "outputs": [],
   "source": [
    "#creating a primitive bar chart"
   ]
  },
  {
   "cell_type": "code",
   "execution_count": 67,
   "id": "5a8d8e03-2d10-41ac-a815-b8b7c914d892",
   "metadata": {},
   "outputs": [
    {
     "name": "stdout",
     "output_type": "stream",
     "text": [
      "C:\\Users\\mpabb\\Documents\\IntroToPython-master\\examples\\ch05\n"
     ]
    }
   ],
   "source": [
    "cd C:\\Users\\mpabb\\Documents\\IntroToPython-master\\examples\\ch05"
   ]
  },
  {
   "cell_type": "code",
   "execution_count": 68,
   "id": "1ca24e6c-835a-4f8d-9dd5-0af1bf440b7b",
   "metadata": {},
   "outputs": [
    {
     "name": "stdout",
     "output_type": "stream",
     "text": [
      "\n",
      "Creating a bar chart from numbers:\n",
      "Index   Value   Bar\n",
      "    0      19   XXXXXXXXXXXXXXXXXXX\n",
      "    1       3   XXX\n",
      "    2      15   XXXXXXXXXXXXXXX\n",
      "    3       7   XXXXXXX\n",
      "    4      11   XXXXXXXXXXX\n"
     ]
    }
   ],
   "source": [
    "# fig05_01.py\n",
    "\"\"\"Displaying a bar chart\"\"\"\n",
    "numbers = [19, 3, 15, 7, 11]\n",
    "\n",
    "print('\\nCreating a bar chart from numbers:')\n",
    "print(f'Index{\"Value\":>8}   Bar')\n",
    "\n",
    "for index, value in enumerate(numbers):\n",
    "    print(f'{index:>5}{value:>8}   {\"X\" * value}')"
   ]
  },
  {
   "cell_type": "code",
   "execution_count": 69,
   "id": "5f3f4345-e3ff-40fa-9035-c7bc53c2be76",
   "metadata": {},
   "outputs": [
    {
     "data": {
      "text/plain": [
       "'----------'"
      ]
     },
     "execution_count": 69,
     "metadata": {},
     "output_type": "execute_result"
    }
   ],
   "source": [
    "#Self Check 5.4\n",
    "#Q1-A. A sequence's elements can be unpacked by assigning the sequence to a comma-seperated list of variables\n",
    "#Q2 Does the following cause an error?\n",
    "'-'*10\n",
    "#Q2-A no the multiplication operator repeates the '-' string 10 times"
   ]
  },
  {
   "cell_type": "markdown",
   "id": "2b9e21d1-fbf8-4403-9c41-0043d687edae",
   "metadata": {},
   "source": [
    "5.5 sequence slicing"
   ]
  },
  {
   "cell_type": "code",
   "execution_count": 70,
   "id": "120464c8-9959-4b03-942e-583605be71bd",
   "metadata": {},
   "outputs": [],
   "source": [
    "#you can slice sequences to create new sequences of the same type containing subsets of the original elements< slice operations can modify muteable sequences (those that do not modify a sequences work identically for lists, tuples, and strings) "
   ]
  },
  {
   "cell_type": "code",
   "execution_count": 71,
   "id": "57f7f276-af82-4cf8-bf59-a8a185478cbf",
   "metadata": {},
   "outputs": [
    {
     "data": {
      "text/plain": [
       "[44, 34, 12, 5]"
      ]
     },
     "execution_count": 71,
     "metadata": {},
     "output_type": "execute_result"
    }
   ],
   "source": [
    "#slice copies from the starting(x) index to the end(y) index ex [x:y]\n",
    "numbers = [12, 33 ,44 ,34, 12, 5, 7, 8, 78]\n",
    "\n",
    "numbers[2:6]"
   ]
  },
  {
   "cell_type": "code",
   "execution_count": 72,
   "id": "db2efd62-afa0-45d5-9c71-16616c116b75",
   "metadata": {},
   "outputs": [
    {
     "data": {
      "text/plain": [
       "[12, 33, 44, 34, 12, 5]"
      ]
     },
     "execution_count": 72,
     "metadata": {},
     "output_type": "execute_result"
    }
   ],
   "source": [
    "#omitting starting index, 0 is assumed therefor printing 0 through 6\n",
    "numbers[:6]"
   ]
  },
  {
   "cell_type": "code",
   "execution_count": 73,
   "id": "7d184f78-f2c5-4187-bd23-2e4f86b107ab",
   "metadata": {},
   "outputs": [
    {
     "data": {
      "text/plain": [
       "[12, 33, 44, 34, 12, 5]"
      ]
     },
     "execution_count": 73,
     "metadata": {},
     "output_type": "execute_result"
    }
   ],
   "source": [
    "numbers[0:6]"
   ]
  },
  {
   "cell_type": "code",
   "execution_count": 74,
   "id": "c9af4fd2-46a9-4f03-9340-3e4ae7bef80d",
   "metadata": {},
   "outputs": [
    {
     "data": {
      "text/plain": [
       "[7, 8, 78]"
      ]
     },
     "execution_count": 74,
     "metadata": {},
     "output_type": "execute_result"
    }
   ],
   "source": [
    "#omitting  ending index, python assumes the sequences length, so the slice contains elements of numbers at indeces 6 to the end of the length\n",
    "numbers[6:]"
   ]
  },
  {
   "cell_type": "code",
   "execution_count": 75,
   "id": "8e1e0106-45db-498b-815f-3cc8c7a6f1c3",
   "metadata": {},
   "outputs": [
    {
     "data": {
      "text/plain": [
       "[7, 8, 78]"
      ]
     },
     "execution_count": 75,
     "metadata": {},
     "output_type": "execute_result"
    }
   ],
   "source": [
    "#can also written as\n",
    "numbers[6: len(numbers)]"
   ]
  },
  {
   "cell_type": "code",
   "execution_count": 76,
   "id": "06447472-8fec-4f07-ae7c-ba3de15dcbc5",
   "metadata": {},
   "outputs": [
    {
     "data": {
      "text/plain": [
       "[12, 33, 44, 34, 12, 5, 7, 8, 78]"
      ]
     },
     "execution_count": 76,
     "metadata": {},
     "output_type": "execute_result"
    }
   ],
   "source": [
    "#omitting both start and end reprints the sequences\n",
    "numbers[:]"
   ]
  },
  {
   "cell_type": "code",
   "execution_count": 77,
   "id": "efbf23ce-e799-4093-b979-d7091fe8726e",
   "metadata": {},
   "outputs": [
    {
     "data": {
      "text/plain": [
       "[12, 44, 12, 7, 78]"
      ]
     },
     "execution_count": 77,
     "metadata": {},
     "output_type": "execute_result"
    }
   ],
   "source": [
    "#slicing with steps (::) skips the number specified\n",
    "numbers[::2]"
   ]
  },
  {
   "cell_type": "code",
   "execution_count": 78,
   "id": "4fff1135-291e-460e-b064-38c363e56265",
   "metadata": {},
   "outputs": [
    {
     "data": {
      "text/plain": [
       "[12, 34, 7]"
      ]
     },
     "execution_count": 78,
     "metadata": {},
     "output_type": "execute_result"
    }
   ],
   "source": [
    "numbers[::3]"
   ]
  },
  {
   "cell_type": "code",
   "execution_count": 79,
   "id": "75d94a9f-981e-4593-9fda-a1dbb7712b3b",
   "metadata": {},
   "outputs": [
    {
     "data": {
      "text/plain": [
       "[78, 8, 7, 5, 12, 34, 44, 33, 12]"
      ]
     },
     "execution_count": 79,
     "metadata": {},
     "output_type": "execute_result"
    }
   ],
   "source": [
    "#slicing with negative numbers, this reverses the order\n",
    "numbers[::-1]"
   ]
  },
  {
   "cell_type": "code",
   "execution_count": 80,
   "id": "5489196d-1222-4111-b562-1b6bd21a90f4",
   "metadata": {},
   "outputs": [
    {
     "data": {
      "text/plain": [
       "[78, 8, 7, 5, 12, 34, 44, 33, 12]"
      ]
     },
     "execution_count": 80,
     "metadata": {},
     "output_type": "execute_result"
    }
   ],
   "source": [
    "#reversing the order can also be wrote as\n",
    "numbers[-1:-10:-1]"
   ]
  },
  {
   "cell_type": "code",
   "execution_count": 81,
   "id": "8cc70a48-8dd0-4232-90a0-a1097e1030ce",
   "metadata": {},
   "outputs": [],
   "source": [
    "#modifying lists via slices\n",
    "#lists can modified by assigning to a slice to it, leavining the rest of the list unchanged\n",
    "numbers[0:3] = ('two', 'three', 'five')"
   ]
  },
  {
   "cell_type": "code",
   "execution_count": 82,
   "id": "99cd5794-ed61-4259-84ab-f7dffe71b8f2",
   "metadata": {},
   "outputs": [
    {
     "data": {
      "text/plain": [
       "['two', 'three', 'five', 34, 12, 5, 7, 8, 78]"
      ]
     },
     "execution_count": 82,
     "metadata": {},
     "output_type": "execute_result"
    }
   ],
   "source": [
    "numbers"
   ]
  },
  {
   "cell_type": "code",
   "execution_count": 83,
   "id": "4ad9f31a-ce53-4798-9916-ce4ebab3a701",
   "metadata": {},
   "outputs": [],
   "source": [
    "#this deletes the first 3 elements of the list\n",
    "numbers[0:3]= []"
   ]
  },
  {
   "cell_type": "code",
   "execution_count": 84,
   "id": "c8f988c5-c9fe-4b93-9f34-29be50ad72cd",
   "metadata": {},
   "outputs": [
    {
     "data": {
      "text/plain": [
       "[34, 12, 5, 7, 8, 78]"
      ]
     },
     "execution_count": 84,
     "metadata": {},
     "output_type": "execute_result"
    }
   ],
   "source": [
    "numbers"
   ]
  },
  {
   "cell_type": "code",
   "execution_count": 85,
   "id": "1cb9923e-5e03-49a5-adb2-e20e025d8aa9",
   "metadata": {},
   "outputs": [
    {
     "data": {
      "text/plain": [
       "[100, 5, 100, 23, 100, 14, 100, 6]"
      ]
     },
     "execution_count": 85,
     "metadata": {},
     "output_type": "execute_result"
    }
   ],
   "source": [
    "#the following adds a number after every other one in the list\n",
    "numbers = [2, 5, 12, 23, 13, 14, 55, 6]\n",
    "numbers [::2] = [100, 100, 100, 100]\n",
    "\n",
    "numbers"
   ]
  },
  {
   "cell_type": "code",
   "execution_count": 86,
   "id": "6d9e34a6-937f-4c6c-b332-9bc4b2293022",
   "metadata": {},
   "outputs": [
    {
     "data": {
      "text/plain": [
       "2211988670784"
      ]
     },
     "execution_count": 86,
     "metadata": {},
     "output_type": "execute_result"
    }
   ],
   "source": [
    "id(numbers)"
   ]
  },
  {
   "cell_type": "code",
   "execution_count": 87,
   "id": "393a8fed-0799-4ee8-9efb-1215c596bd80",
   "metadata": {},
   "outputs": [],
   "source": [
    "numbers[:] = []"
   ]
  },
  {
   "cell_type": "code",
   "execution_count": 88,
   "id": "36c95998-70c7-472e-9280-5220530d813a",
   "metadata": {},
   "outputs": [
    {
     "data": {
      "text/plain": [
       "[]"
      ]
     },
     "execution_count": 88,
     "metadata": {},
     "output_type": "execute_result"
    }
   ],
   "source": [
    "numbers"
   ]
  },
  {
   "cell_type": "code",
   "execution_count": 89,
   "id": "e9f794f5-ee94-49ef-a9cc-7797a915531b",
   "metadata": {},
   "outputs": [
    {
     "data": {
      "text/plain": [
       "2211988670784"
      ]
     },
     "execution_count": 89,
     "metadata": {},
     "output_type": "execute_result"
    }
   ],
   "source": [
    "id(numbers)"
   ]
  },
  {
   "cell_type": "code",
   "execution_count": 90,
   "id": "aa386d1b-61c3-4e21-a002-266bc2f088b3",
   "metadata": {},
   "outputs": [],
   "source": [
    "#deleting numbers is different than assigning numbers a new empty list proven by the different id memories of the two different 'numbers'\n",
    "numbers= []"
   ]
  },
  {
   "cell_type": "code",
   "execution_count": 91,
   "id": "ffa868dd-ecb7-418c-bf88-4f03e556233a",
   "metadata": {},
   "outputs": [
    {
     "data": {
      "text/plain": [
       "[]"
      ]
     },
     "execution_count": 91,
     "metadata": {},
     "output_type": "execute_result"
    }
   ],
   "source": [
    "numbers"
   ]
  },
  {
   "cell_type": "code",
   "execution_count": 92,
   "id": "c0e55608-c956-4c33-8ec1-d54dd7b290d8",
   "metadata": {},
   "outputs": [
    {
     "data": {
      "text/plain": [
       "2211988697472"
      ]
     },
     "execution_count": 92,
     "metadata": {},
     "output_type": "execute_result"
    }
   ],
   "source": [
    "id(numbers)"
   ]
  },
  {
   "cell_type": "code",
   "execution_count": 93,
   "id": "6b81da31-9283-4f6d-bb9f-db885319ec3a",
   "metadata": {},
   "outputs": [
    {
     "data": {
      "text/plain": [
       "[1, 2, 3, 4, 5, 6, 7, 8, 9, 10, 11, 12, 13, 14, 15]"
      ]
     },
     "execution_count": 93,
     "metadata": {},
     "output_type": "execute_result"
    }
   ],
   "source": [
    "#5.5 self check\n",
    "\n",
    "#Q1-A. False slice operations that do not modify  a sequence work identically for lists, tuples, and strings\n",
    "#Q2-A. assume a list called names. The slice expression names[::-1] shows the elements of the list in reverse order\n",
    "#Q3 python session\n",
    "\n",
    "numbers = list(range(1,16))\n",
    "numbers"
   ]
  },
  {
   "cell_type": "code",
   "execution_count": 94,
   "id": "25621fa7-3fda-41f7-ab18-d3cc68cb9836",
   "metadata": {},
   "outputs": [
    {
     "data": {
      "text/plain": [
       "[2, 4, 6, 8, 10, 12, 14]"
      ]
     },
     "execution_count": 94,
     "metadata": {},
     "output_type": "execute_result"
    }
   ],
   "source": [
    "#a select number's even integers\n",
    "numbers[1:len(numbers):2]"
   ]
  },
  {
   "cell_type": "code",
   "execution_count": 95,
   "id": "a82d7769-4fea-47f1-ba10-a6c60f32ccf8",
   "metadata": {},
   "outputs": [
    {
     "data": {
      "text/plain": [
       "[1, 2, 3, 4, 5, 0, 0, 0, 0, 0, 11, 12, 13, 14, 15]"
      ]
     },
     "execution_count": 95,
     "metadata": {},
     "output_type": "execute_result"
    }
   ],
   "source": [
    "#b replace numbers 5 through 9 with 0\n",
    "numbers[5:10] = [0] * len(numbers[5:10])\n",
    "\n",
    "numbers"
   ]
  },
  {
   "cell_type": "code",
   "execution_count": 96,
   "id": "4880766a-943b-40e1-990c-d33e5e512fd9",
   "metadata": {},
   "outputs": [
    {
     "data": {
      "text/plain": [
       "[1, 2, 3, 4, 5]"
      ]
     },
     "execution_count": 96,
     "metadata": {},
     "output_type": "execute_result"
    }
   ],
   "source": [
    "#c keep only the first 5 elements\n",
    "numbers[5:] = []\n",
    "numbers"
   ]
  },
  {
   "cell_type": "code",
   "execution_count": 97,
   "id": "11b17d5e-bba8-4075-acc6-18f468d213ae",
   "metadata": {},
   "outputs": [
    {
     "data": {
      "text/plain": [
       "[]"
      ]
     },
     "execution_count": 97,
     "metadata": {},
     "output_type": "execute_result"
    }
   ],
   "source": [
    "#d delete the remaining numbers\n",
    "numbers[:] =[]\n",
    "numbers"
   ]
  },
  {
   "cell_type": "markdown",
   "id": "8ab9fa0a-04c7-4aef-af6c-40c52d6bc814",
   "metadata": {},
   "source": [
    "#5.6 del statement\n"
   ]
  },
  {
   "cell_type": "code",
   "execution_count": 98,
   "id": "57614383-4b58-47f8-97d3-8f40d65582f6",
   "metadata": {},
   "outputs": [],
   "source": [
    "#del statements can be used to remove elements from a list and to delete variables from the interactive session. you can remove the element at any valid index or the elements from any valid slice."
   ]
  },
  {
   "cell_type": "code",
   "execution_count": 99,
   "id": "4f4f865a-f62d-498b-a9d6-393c78d555e7",
   "metadata": {},
   "outputs": [
    {
     "data": {
      "text/plain": [
       "[0, 8, 16, 24, 32, 40, 48, 56, 64, 72, 80, 88, 96, 104, 112, 120]"
      ]
     },
     "execution_count": 99,
     "metadata": {},
     "output_type": "execute_result"
    }
   ],
   "source": [
    "#deleting the element at a specific list index\n",
    "numbers = list(range(0,122,8))\n",
    "\n",
    "numbers"
   ]
  },
  {
   "cell_type": "code",
   "execution_count": 100,
   "id": "2a3063f7-1306-4af5-b8a6-b20e73cea4fc",
   "metadata": {},
   "outputs": [
    {
     "data": {
      "text/plain": [
       "[0, 8, 16, 24, 32, 40, 48, 56, 64, 72, 80, 88, 96, 104, 112]"
      ]
     },
     "execution_count": 100,
     "metadata": {},
     "output_type": "execute_result"
    }
   ],
   "source": [
    "del numbers[-1] #deletes last list element\n",
    "\n",
    "numbers"
   ]
  },
  {
   "cell_type": "code",
   "execution_count": 101,
   "id": "40ef83f2-752a-4c88-b5cc-7659db872bd7",
   "metadata": {},
   "outputs": [
    {
     "data": {
      "text/plain": [
       "[16, 24, 32, 40, 48, 56, 64, 72, 80, 88, 96, 104, 112]"
      ]
     },
     "execution_count": 101,
     "metadata": {},
     "output_type": "execute_result"
    }
   ],
   "source": [
    "#deleting slice from a list\n",
    "del numbers[0:2]\n",
    "\n",
    "numbers"
   ]
  },
  {
   "cell_type": "code",
   "execution_count": 102,
   "id": "b5b1d83e-feae-4cae-96c5-3be61a258e5f",
   "metadata": {},
   "outputs": [
    {
     "data": {
      "text/plain": [
       "[24, 40, 56, 72, 88, 104]"
      ]
     },
     "execution_count": 102,
     "metadata": {},
     "output_type": "execute_result"
    }
   ],
   "source": [
    "#deleting every other element in a list\n",
    "\n",
    "del numbers[::2]\n",
    "\n",
    "numbers"
   ]
  },
  {
   "cell_type": "code",
   "execution_count": 103,
   "id": "94f1f350-2518-487e-bca0-2399e05c7077",
   "metadata": {},
   "outputs": [
    {
     "data": {
      "text/plain": [
       "[]"
      ]
     },
     "execution_count": 103,
     "metadata": {},
     "output_type": "execute_result"
    }
   ],
   "source": [
    "#deleting a slice representing the entire list\n",
    "\n",
    "del numbers[:]\n",
    "\n",
    "numbers"
   ]
  },
  {
   "cell_type": "code",
   "execution_count": 104,
   "id": "6b67c573-8e87-4b1a-aeaf-9336c9a7e90f",
   "metadata": {},
   "outputs": [],
   "source": [
    "#deleting variable from the session\n",
    "del numbers"
   ]
  },
  {
   "cell_type": "code",
   "execution_count": 105,
   "id": "13a8f7ea-23d6-4eaf-bc9a-bb38d80a549b",
   "metadata": {},
   "outputs": [],
   "source": [
    "#writing (numbers) will now show an error code because numbers is no longer defined "
   ]
  },
  {
   "cell_type": "code",
   "execution_count": 106,
   "id": "ea0b927a-7743-4bd8-b185-83f6ef80cdad",
   "metadata": {},
   "outputs": [],
   "source": [
    "#5.5 self check\n",
    "#Q1-A. given a list of numbers 1 through 10 del numbers[-2] will delete the number 9\n",
    "#Q2 python session\n",
    "    #creat a list called numbers containing values 1 through 15\n",
    "numbers = list(range(1,16))"
   ]
  },
  {
   "cell_type": "code",
   "execution_count": 107,
   "id": "47171e3a-edfe-422e-b0a5-dd431e4ef2ab",
   "metadata": {},
   "outputs": [
    {
     "data": {
      "text/plain": [
       "[1, 2, 3, 4, 5, 6, 7, 8, 9, 10, 11, 12, 13, 14, 15]"
      ]
     },
     "execution_count": 107,
     "metadata": {},
     "output_type": "execute_result"
    }
   ],
   "source": [
    "numbers = list(range(1,16))\n",
    "\n",
    "numbers"
   ]
  },
  {
   "cell_type": "code",
   "execution_count": 108,
   "id": "74e60f17-6e3d-4393-bf96-5d1cf2a824fb",
   "metadata": {},
   "outputs": [
    {
     "data": {
      "text/plain": [
       "[5, 6, 7, 8, 9, 10, 11, 12, 13, 14, 15]"
      ]
     },
     "execution_count": 108,
     "metadata": {},
     "output_type": "execute_result"
    }
   ],
   "source": [
    "#Q2-a. delete a slice containing first four elements\n",
    "\n",
    "del numbers[:4]\n",
    "\n",
    "numbers"
   ]
  },
  {
   "cell_type": "code",
   "execution_count": 109,
   "id": "d83cc2a7-0b5b-48b4-948d-b937af8ae013",
   "metadata": {},
   "outputs": [
    {
     "data": {
      "text/plain": [
       "[6, 8, 10, 12, 14]"
      ]
     },
     "execution_count": 109,
     "metadata": {},
     "output_type": "execute_result"
    }
   ],
   "source": [
    "#Q2-b. starting with first element delete every other number in the list\n",
    "\n",
    "del numbers[::2]\n",
    "\n",
    "numbers"
   ]
  },
  {
   "cell_type": "markdown",
   "id": "5c0714ff-ad2e-4fde-a8ad-dde9ca7e5cd8",
   "metadata": {},
   "source": [
    "#5.7 Passing lists to functions"
   ]
  },
  {
   "cell_type": "code",
   "execution_count": 110,
   "id": "28c83e47-7327-417b-9d46-ab7db43b907c",
   "metadata": {},
   "outputs": [],
   "source": [
    "#passing an entire list to a function\n",
    "def modify_elements(items):\n",
    "    \"\"\"Multiplies all element values in items by 2.\"\"\"\n",
    "    for i in range(len(items)):\n",
    "        items[i] *=2"
   ]
  },
  {
   "cell_type": "code",
   "execution_count": 111,
   "id": "7319bfc6-b19a-4326-b8a8-35acf2d4513a",
   "metadata": {},
   "outputs": [
    {
     "data": {
      "text/plain": [
       "[20, 6, 18, 2, 156, 152]"
      ]
     },
     "execution_count": 111,
     "metadata": {},
     "output_type": "execute_result"
    }
   ],
   "source": [
    "numbers = [10, 3, 9, 1, 78, 76]\n",
    "\n",
    "modify_elements(numbers)\n",
    "\n",
    "numbers"
   ]
  },
  {
   "cell_type": "code",
   "execution_count": 112,
   "id": "cc90ff86-ecec-43c6-ac26-f6981f685a56",
   "metadata": {},
   "outputs": [],
   "source": [
    "#when you pass a tuple to a function, attempting to modify the tuple will result in a type error\n"
   ]
  },
  {
   "cell_type": "code",
   "execution_count": 113,
   "id": "be61621a-2867-47c8-bf75-58ed8eabdf60",
   "metadata": {},
   "outputs": [],
   "source": [
    "#Self Check\n",
    "#Q1-A: You cannot modify lists contents when  you pass a function-- False: you can modify a mutable object(list) to a function the function recieves a reference to the original list\n",
    "#Q2-A: True: tuples can contain lists and other mutable objects. Those mutable objects can be modified when a tuple is passed to the function."
   ]
  },
  {
   "cell_type": "markdown",
   "id": "edd92fc3-816f-4580-abdc-16784c232f79",
   "metadata": {},
   "source": [
    "5.8 Sorting lists"
   ]
  },
  {
   "cell_type": "code",
   "execution_count": 114,
   "id": "38490343-0308-4841-bca8-8862ef49c902",
   "metadata": {},
   "outputs": [],
   "source": [
    "numbers = [1, 3, 4, 5, 1, 2, 22, 32, 23, 11, 5, 19, 89, 12]"
   ]
  },
  {
   "cell_type": "code",
   "execution_count": 115,
   "id": "22fbbbb8-210a-415f-84bf-4f345e2253cd",
   "metadata": {},
   "outputs": [
    {
     "data": {
      "text/plain": [
       "[1, 1, 2, 3, 4, 5, 5, 11, 12, 19, 22, 23, 32, 89]"
      ]
     },
     "execution_count": 115,
     "metadata": {},
     "output_type": "execute_result"
    }
   ],
   "source": [
    "numbers.sort()\n",
    "\n",
    "numbers"
   ]
  },
  {
   "cell_type": "code",
   "execution_count": 116,
   "id": "a409315e-2525-4b1b-a9b3-be6a7f8f5c3f",
   "metadata": {},
   "outputs": [
    {
     "data": {
      "text/plain": [
       "[89, 32, 23, 22, 19, 12, 11, 5, 5, 4, 3, 2, 1, 1]"
      ]
     },
     "execution_count": 116,
     "metadata": {},
     "output_type": "execute_result"
    }
   ],
   "source": [
    "numbers.sort(reverse=True)\n",
    "\n",
    "numbers"
   ]
  },
  {
   "cell_type": "code",
   "execution_count": 117,
   "id": "86f7e2b8-4fca-4683-b37b-dcdc4f5da79e",
   "metadata": {},
   "outputs": [],
   "source": [
    "ascending_numbers = sorted(numbers)"
   ]
  },
  {
   "cell_type": "code",
   "execution_count": 118,
   "id": "67830ac5-c517-49e2-920d-ce17fbd83817",
   "metadata": {},
   "outputs": [
    {
     "data": {
      "text/plain": [
       "[1, 1, 2, 3, 4, 5, 5, 11, 12, 19, 22, 23, 32, 89]"
      ]
     },
     "execution_count": 118,
     "metadata": {},
     "output_type": "execute_result"
    }
   ],
   "source": [
    "ascending_numbers"
   ]
  },
  {
   "cell_type": "code",
   "execution_count": 119,
   "id": "2b9bb36b-714b-4b0e-b9d8-f4fd93601cad",
   "metadata": {},
   "outputs": [
    {
     "data": {
      "text/plain": [
       "[89, 32, 23, 22, 19, 12, 11, 5, 5, 4, 3, 2, 1, 1]"
      ]
     },
     "execution_count": 119,
     "metadata": {},
     "output_type": "execute_result"
    }
   ],
   "source": [
    "numbers"
   ]
  },
  {
   "cell_type": "code",
   "execution_count": 120,
   "id": "f41f527a-82e5-45a7-9f25-6d38782727e1",
   "metadata": {},
   "outputs": [],
   "source": [
    "letters = 'dfgertsdfsgfertnjyum'\n",
    "\n",
    "ascending_letters = sorted(letters)"
   ]
  },
  {
   "cell_type": "code",
   "execution_count": 121,
   "id": "fbfdef70-e27a-4e24-9d89-cebca3aab84c",
   "metadata": {},
   "outputs": [
    {
     "data": {
      "text/plain": [
       "['d',\n",
       " 'd',\n",
       " 'e',\n",
       " 'e',\n",
       " 'f',\n",
       " 'f',\n",
       " 'f',\n",
       " 'g',\n",
       " 'g',\n",
       " 'j',\n",
       " 'm',\n",
       " 'n',\n",
       " 'r',\n",
       " 'r',\n",
       " 's',\n",
       " 's',\n",
       " 't',\n",
       " 't',\n",
       " 'u',\n",
       " 'y']"
      ]
     },
     "execution_count": 121,
     "metadata": {},
     "output_type": "execute_result"
    }
   ],
   "source": [
    "ascending_letters"
   ]
  },
  {
   "cell_type": "code",
   "execution_count": 122,
   "id": "e0669eb3-0dc4-4884-a2c8-8607478b38c1",
   "metadata": {},
   "outputs": [
    {
     "data": {
      "text/plain": [
       "'dfgertsdfsgfertnjyum'"
      ]
     },
     "execution_count": 122,
     "metadata": {},
     "output_type": "execute_result"
    }
   ],
   "source": [
    "letters"
   ]
  },
  {
   "cell_type": "code",
   "execution_count": 123,
   "id": "8df6fb4a-4e77-4a05-b3f1-872a5146c0e1",
   "metadata": {},
   "outputs": [
    {
     "data": {
      "text/plain": [
       "('blue', 'green', 'red', 'orange', 'yellow', 'brown', 'magenta')"
      ]
     },
     "execution_count": 123,
     "metadata": {},
     "output_type": "execute_result"
    }
   ],
   "source": [
    "colors = ('blue', 'green', 'red', 'orange', 'yellow', 'brown', 'magenta')\n",
    "\n",
    "ascending_colors= sorted(colors)\n",
    "\n",
    "colors"
   ]
  },
  {
   "cell_type": "code",
   "execution_count": 124,
   "id": "8956e2c4-0ef8-4374-a648-bec7e2286ea7",
   "metadata": {},
   "outputs": [
    {
     "data": {
      "text/plain": [
       "['blue', 'brown', 'green', 'magenta', 'orange', 'red', 'yellow']"
      ]
     },
     "execution_count": 124,
     "metadata": {},
     "output_type": "execute_result"
    }
   ],
   "source": [
    "ascending_colors"
   ]
  },
  {
   "cell_type": "code",
   "execution_count": 125,
   "id": "691e25e1-c5a5-4d6d-b309-603860bc1192",
   "metadata": {},
   "outputs": [
    {
     "data": {
      "text/plain": [
       "('blue', 'green', 'red', 'orange', 'yellow', 'brown', 'magenta')"
      ]
     },
     "execution_count": 125,
     "metadata": {},
     "output_type": "execute_result"
    }
   ],
   "source": [
    "colors"
   ]
  },
  {
   "cell_type": "code",
   "execution_count": 126,
   "id": "958dbbec-4ff7-41a2-89b8-f5faa1dd60f9",
   "metadata": {},
   "outputs": [
    {
     "data": {
      "text/plain": [
       "['Bacon', 'Cookies', 'Grapes', 'apples', 'pizza', 'steak']"
      ]
     },
     "execution_count": 126,
     "metadata": {},
     "output_type": "execute_result"
    }
   ],
   "source": [
    "#5.8 Self check\n",
    "\n",
    "#Q1-A. to sort a list in descending order, call list method sort with the optional keyword argument (reverse) set to True (reverse=True)\n",
    "#Q1-2A. False immutable sequences like tuples and strings do not provide a sort method. However, you can sort any sequence without modifying it using the built in  function sorted.\n",
    "#Q3-A\n",
    "\n",
    "foods = ['Cookies', 'pizza', 'Grapes', 'apples', 'steak', 'Bacon']\n",
    "\n",
    "foods.sort()\n",
    "\n",
    "foods"
   ]
  },
  {
   "cell_type": "code",
   "execution_count": 127,
   "id": "11c1b713-5826-4ce4-a700-d8d7771ceb38",
   "metadata": {},
   "outputs": [],
   "source": [
    "#the strings are not in alphebetical order, because Capitalized words are given a higher value and therefore come before"
   ]
  },
  {
   "cell_type": "code",
   "execution_count": 128,
   "id": "7b7aedb9-eca4-4d3c-b79d-80948b57d441",
   "metadata": {},
   "outputs": [
    {
     "data": {
      "text/plain": [
       "['apples', 'bacon', 'cookies', 'grapes', 'pizza', 'steak']"
      ]
     },
     "execution_count": 128,
     "metadata": {},
     "output_type": "execute_result"
    }
   ],
   "source": [
    "foods = ['cookies', 'pizza', 'grapes', 'apples', 'steak', 'bacon']\n",
    "\n",
    "foods.sort()\n",
    "\n",
    "foods"
   ]
  },
  {
   "cell_type": "code",
   "execution_count": 129,
   "id": "80996d4c-f9c6-464a-a57b-73a663cf5a75",
   "metadata": {},
   "outputs": [
    {
     "data": {
      "text/plain": [
       "['Apples', 'Bacon', 'Cookies', 'Grapes', 'Pizza', 'Steak']"
      ]
     },
     "execution_count": 129,
     "metadata": {},
     "output_type": "execute_result"
    }
   ],
   "source": [
    "foods = ['Cookies', 'Pizza', 'Grapes', 'Apples', 'Steak', 'Bacon']\n",
    "\n",
    "foods.sort()\n",
    "\n",
    "foods"
   ]
  },
  {
   "cell_type": "code",
   "execution_count": 130,
   "id": "648247a8-c8e3-485c-a067-f7c0eac4cc85",
   "metadata": {},
   "outputs": [
    {
     "data": {
      "text/plain": [
       "3"
      ]
     },
     "execution_count": 130,
     "metadata": {},
     "output_type": "execute_result"
    }
   ],
   "source": [
    "#5.9 Self checks\n",
    "\n",
    "#Q1-A. The (*=) operator can be used to extend a list with copies of itself\n",
    "#Q2-A. operators (in) and (not in) determine whether a sequece contains or does not contain a value.\n",
    "#Q3-A\n",
    "\n",
    "numbers= [67, 12, 46, 43, 13]\n",
    "\n",
    "numbers.index(43)"
   ]
  },
  {
   "cell_type": "code",
   "execution_count": 131,
   "id": "99cbb1bb-9d9c-49c2-8e45-d4ee31610e98",
   "metadata": {},
   "outputs": [
    {
     "name": "stdout",
     "output_type": "stream",
     "text": [
      "44 not found\n"
     ]
    }
   ],
   "source": [
    "if 44 in numbers:\n",
    "    print(f'found 44 at index: {numbers.index(44)}')\n",
    "else:\n",
    "    print('44 not found')"
   ]
  },
  {
   "cell_type": "markdown",
   "id": "8246df11-2dec-47e8-a0de-b1e599ca0151",
   "metadata": {},
   "source": [
    "5.12 List Comprehensions"
   ]
  },
  {
   "cell_type": "code",
   "execution_count": 132,
   "id": "e2713aa9-8903-4abf-bb87-6120ffc5c2fc",
   "metadata": {},
   "outputs": [],
   "source": [
    "#A create a new list\n",
    "list1 =[]\n",
    "\n",
    "for item in range(1,6):\n",
    "    list1.append(item)"
   ]
  },
  {
   "cell_type": "code",
   "execution_count": 133,
   "id": "1119f868-7447-40f4-9684-f72741e06fd9",
   "metadata": {},
   "outputs": [
    {
     "data": {
      "text/plain": [
       "[1, 2, 3, 4, 5]"
      ]
     },
     "execution_count": 133,
     "metadata": {},
     "output_type": "execute_result"
    }
   ],
   "source": [
    "list1"
   ]
  },
  {
   "cell_type": "code",
   "execution_count": 134,
   "id": "2f3c9d51-1a77-450b-bbfc-8abea1dc9f2c",
   "metadata": {},
   "outputs": [
    {
     "data": {
      "text/plain": [
       "[-7, -6, -5, -4, -3, -2, -1, 0, 1, 2, 3, 4, 5, 6]"
      ]
     },
     "execution_count": 134,
     "metadata": {},
     "output_type": "execute_result"
    }
   ],
   "source": [
    "#Using list comprehension to create a list of integers\n",
    "list2 = [item for item in range(-7,7)]\n",
    "\n",
    "list2"
   ]
  },
  {
   "cell_type": "code",
   "execution_count": 135,
   "id": "77320a9d-c208-4c44-af60-62c4eecfb620",
   "metadata": {},
   "outputs": [
    {
     "data": {
      "text/plain": [
       "[1, 16, 81, 256, 625, 1296, 2401]"
      ]
     },
     "execution_count": 135,
     "metadata": {},
     "output_type": "execute_result"
    }
   ],
   "source": [
    "#mapping operators in a lists Comprehension's Expression\n",
    "list3 = [item **4 for item in range(1,8)]\n",
    "\n",
    "list3"
   ]
  },
  {
   "cell_type": "code",
   "execution_count": 136,
   "id": "7e679943-8443-42fc-b804-c88ed9751317",
   "metadata": {},
   "outputs": [
    {
     "data": {
      "text/plain": [
       "[-10, -5, 0, 5, 10]"
      ]
     },
     "execution_count": 136,
     "metadata": {},
     "output_type": "execute_result"
    }
   ],
   "source": [
    "#Filtering: list comprehension with if clauses\n",
    "\n",
    "list4 = [item for item in range(-12,12) if item % 2.5 == 0]\n",
    "\n",
    "list4"
   ]
  },
  {
   "cell_type": "code",
   "execution_count": 137,
   "id": "e40e332d-65a3-46da-8f9f-cf594e6e4e4a",
   "metadata": {},
   "outputs": [
    {
     "data": {
      "text/plain": [
       "[10]"
      ]
     },
     "execution_count": 137,
     "metadata": {},
     "output_type": "execute_result"
    }
   ],
   "source": [
    "list4 = [item for item in range(-12,12) if item -5*2 == 0]\n",
    "\n",
    "list4"
   ]
  },
  {
   "cell_type": "code",
   "execution_count": 138,
   "id": "162f29a5-5437-4f6d-85d7-db1576cfa6df",
   "metadata": {},
   "outputs": [
    {
     "data": {
      "text/plain": [
       "['RED', 'GREEN', 'BLUE', 'YELLOW', 'ORANGE']"
      ]
     },
     "execution_count": 138,
     "metadata": {},
     "output_type": "execute_result"
    }
   ],
   "source": [
    "#list comprehension that processes another lists elements\n",
    "\n",
    "colors = ['red', 'green', 'blue', 'yellow', 'orange']\n",
    "\n",
    "colors2 =[item.upper() for item in colors]\n",
    "\n",
    "colors2"
   ]
  },
  {
   "cell_type": "code",
   "execution_count": 139,
   "id": "e5c6a205-c847-4423-91a2-c9d1576c3961",
   "metadata": {},
   "outputs": [
    {
     "data": {
      "text/plain": [
       "['red', 'green', 'blue', 'yellow', 'orange']"
      ]
     },
     "execution_count": 139,
     "metadata": {},
     "output_type": "execute_result"
    }
   ],
   "source": [
    "colors"
   ]
  },
  {
   "cell_type": "code",
   "execution_count": 140,
   "id": "499ed525-7cdd-4dbd-a7d8-ba27e762f84e",
   "metadata": {},
   "outputs": [
    {
     "data": {
      "text/plain": [
       "[(1, 1), (2, 8), (3, 27), (4, 64), (5, 125)]"
      ]
     },
     "execution_count": 140,
     "metadata": {},
     "output_type": "execute_result"
    }
   ],
   "source": [
    "#5.12 self check\n",
    "\n",
    "#Q1-A: A list comprehension's for clause iteraters over the specific sequence\n",
    "#Q2-A: A list comprehension's if clause filters squence elements to select only those that match a condition\n",
    "\n",
    "#Q3-A.\n",
    "\n",
    "cubes = [(x, x**3) for x in range(1,6)]\n",
    "cubes"
   ]
  },
  {
   "cell_type": "code",
   "execution_count": 141,
   "id": "3039a00f-20ae-4fc6-86d1-0a3c68256e47",
   "metadata": {},
   "outputs": [
    {
     "data": {
      "text/plain": [
       "[3, 6, 9, 12, 15, 18, 21, 24, 27]"
      ]
     },
     "execution_count": 141,
     "metadata": {},
     "output_type": "execute_result"
    }
   ],
   "source": [
    "#Q4-A\n",
    "\n",
    "multiples = [x for x in range(3, 30, 3)]\n",
    "\n",
    "multiples"
   ]
  },
  {
   "cell_type": "markdown",
   "id": "b7292ed4-5ae2-44a5-b064-ff268e6bb4a0",
   "metadata": {},
   "source": [
    "5.14 Filter, Map, Reduce"
   ]
  },
  {
   "cell_type": "code",
   "execution_count": 142,
   "id": "09c20e34-c422-4bc2-b91d-a8c4874190d6",
   "metadata": {},
   "outputs": [
    {
     "data": {
      "text/plain": [
       "[13, 11, 25, 9, 7, 3]"
      ]
     },
     "execution_count": 142,
     "metadata": {},
     "output_type": "execute_result"
    }
   ],
   "source": [
    "#filtering a sequence with built in filter function\n",
    "numbers = [13, 2, 11, 25, 22, 54, 12, 32, 8, 9, 7, 3]\n",
    "\n",
    "def is_odd(x):\n",
    "    \"\"\"returns True onle if x is odd\"\"\"\n",
    "    return x % 2 !=0\n",
    "\n",
    "list(filter(is_odd, numbers))"
   ]
  },
  {
   "cell_type": "code",
   "execution_count": 143,
   "id": "35c1417d-b3bb-400b-a73b-a3008f744970",
   "metadata": {},
   "outputs": [
    {
     "data": {
      "text/plain": [
       "[13, 11, 25, 9, 7, 3]"
      ]
     },
     "execution_count": 143,
     "metadata": {},
     "output_type": "execute_result"
    }
   ],
   "source": [
    "#written in another way\n",
    "\n",
    "[item for item in numbers if is_odd(item)]"
   ]
  },
  {
   "cell_type": "code",
   "execution_count": 144,
   "id": "03df8fa6-44a1-412c-91ff-bda9675902ae",
   "metadata": {},
   "outputs": [
    {
     "data": {
      "text/plain": [
       "[13, 11, 25, 9, 7, 3]"
      ]
     },
     "execution_count": 144,
     "metadata": {},
     "output_type": "execute_result"
    }
   ],
   "source": [
    "#using a lambda rather than a function\n",
    "#lambda can be used to return only a single expression's value\n",
    "\n",
    "list(filter(lambda x: x % 2 !=0, numbers))"
   ]
  },
  {
   "cell_type": "code",
   "execution_count": 145,
   "id": "48b3e4f3-ed0e-4d78-9711-e6f5366e71e0",
   "metadata": {},
   "outputs": [],
   "source": [
    "#lambda expression is an anonymous function(that is a function without a name)"
   ]
  },
  {
   "cell_type": "code",
   "execution_count": 146,
   "id": "fe87eaae-a2e7-45af-b5f0-81b0da4ad290",
   "metadata": {},
   "outputs": [],
   "source": [
    "#filter(lambda x: x % 2 !=0, numbers)\n",
    "#the first argument is the lambda (lambda x: x % 2 !=0)"
   ]
  },
  {
   "cell_type": "code",
   "execution_count": 147,
   "id": "88619c10-889d-4fc4-80bf-eb39fd04a9ef",
   "metadata": {},
   "outputs": [],
   "source": [
    "#A lambda begins with a lambda keyword followed by a comma-seperated parameter list, a colon(:) and an expression"
   ]
  },
  {
   "cell_type": "code",
   "execution_count": 148,
   "id": "a58679e9-60fe-4ee1-bb91-0f54771e3a7b",
   "metadata": {},
   "outputs": [],
   "source": [
    "#def function1(parameter_list):\n",
    "    #return expression\n",
    "#this may be expressed more concise in the lambda form\n",
    "#lambda function1:expression"
   ]
  },
  {
   "cell_type": "code",
   "execution_count": 149,
   "id": "42bdf162-c0b2-4da1-bae9-14074b35ecab",
   "metadata": {},
   "outputs": [
    {
     "data": {
      "text/plain": [
       "[144, 3025, 676, 14884, 207936, 9, 4356, 144, 484, 2401]"
      ]
     },
     "execution_count": 149,
     "metadata": {},
     "output_type": "execute_result"
    }
   ],
   "source": [
    "#mapping sequence values to new values\n",
    "#map is a build in function that recieves one value and returns a new value\n",
    "numbers= [12, 55, 26, 122, 456, 3, 66, 12, 22, 49]\n",
    "\n",
    "list(map(lambda x: x**2, numbers))"
   ]
  },
  {
   "cell_type": "code",
   "execution_count": 150,
   "id": "31fb5a9c-7a3b-44a7-84d1-0b8e4657f9f6",
   "metadata": {},
   "outputs": [
    {
     "data": {
      "text/plain": [
       "[144, 3025, 676, 14884, 207936, 9, 4356, 144, 484, 2401]"
      ]
     },
     "execution_count": 150,
     "metadata": {},
     "output_type": "execute_result"
    }
   ],
   "source": [
    "#alternatively can be written as\n",
    "\n",
    "[item ** 2 for item in numbers]"
   ]
  },
  {
   "cell_type": "code",
   "execution_count": 151,
   "id": "156e06c8-a055-4686-a36b-5b52df3da017",
   "metadata": {},
   "outputs": [
    {
     "data": {
      "text/plain": [
       "[3025, 9, 2401]"
      ]
     },
     "execution_count": 151,
     "metadata": {},
     "output_type": "execute_result"
    }
   ],
   "source": [
    "#combining filter and map\n",
    "\n",
    "list(map(lambda x: x**2, filter(lambda x: x%2 != 0, numbers)))"
   ]
  },
  {
   "cell_type": "code",
   "execution_count": 152,
   "id": "be3a4f4e-0c66-4516-a2a1-c82ff2ef316e",
   "metadata": {},
   "outputs": [
    {
     "data": {
      "text/plain": [
       "[3025, 9, 2401]"
      ]
     },
     "execution_count": 152,
     "metadata": {},
     "output_type": "execute_result"
    }
   ],
   "source": [
    "#can also be written as\n",
    "[x**2 for x in numbers if x%2 !=0]"
   ]
  },
  {
   "cell_type": "code",
   "execution_count": 153,
   "id": "dfef7c3a-3d06-45f9-8d6b-7720a0cae04c",
   "metadata": {},
   "outputs": [],
   "source": [
    "#Self Check\n",
    "\n",
    "#Q1-A. filter, map, and reduce are common operations used in functional style programming\n",
    "#Q2-A. A reduction processes a sequence's elements into a single values, such as their count, total, or average.\n",
    "#Q3. create a list called numbers containing 1 through 15.\n",
    "\n",
    "numbers = list(range(1,16))\n"
   ]
  },
  {
   "cell_type": "code",
   "execution_count": 154,
   "id": "ad15d293-1f23-4100-9cef-2a3b8328459e",
   "metadata": {},
   "outputs": [
    {
     "data": {
      "text/plain": [
       "[2, 4, 6, 8, 10, 12, 14]"
      ]
     },
     "execution_count": 154,
     "metadata": {},
     "output_type": "execute_result"
    }
   ],
   "source": [
    "#Q3-a. use lambda to select only even numbers.\n",
    "\n",
    "list(filter(lambda x:x % 2 == 0, numbers))"
   ]
  },
  {
   "cell_type": "code",
   "execution_count": 155,
   "id": "92a64492-7a5d-431e-a368-9880f71c578a",
   "metadata": {},
   "outputs": [
    {
     "data": {
      "text/plain": [
       "[1, 4, 9, 16, 25, 36, 49, 64, 81, 100, 121, 144, 169, 196, 225]"
      ]
     },
     "execution_count": 155,
     "metadata": {},
     "output_type": "execute_result"
    }
   ],
   "source": [
    "#Q3-b. use built in function map witha lambda to square the values of numbers' elements. Create a new list containing the results\n",
    "\n",
    "list(map(lambda x:x**2, numbers))\n"
   ]
  },
  {
   "cell_type": "code",
   "execution_count": 156,
   "id": "6759a8c4-34df-4bcd-98ce-9efcf4b7709b",
   "metadata": {},
   "outputs": [
    {
     "data": {
      "text/plain": [
       "[4, 16, 36, 64, 100, 144, 196]"
      ]
     },
     "execution_count": 156,
     "metadata": {},
     "output_type": "execute_result"
    }
   ],
   "source": [
    "list(map(lambda x:x**2,filter(lambda x:x % 2 == 0, numbers)))"
   ]
  },
  {
   "cell_type": "code",
   "execution_count": 157,
   "id": "35af98ff-7db9-4ceb-95e1-42d7b8db544d",
   "metadata": {},
   "outputs": [
    {
     "data": {
      "text/plain": [
       "[(41, 5.0), (32, 0.0), (212, 100.0)]"
      ]
     },
     "execution_count": 157,
     "metadata": {},
     "output_type": "execute_result"
    }
   ],
   "source": [
    "#Q4. Map a list of the three fahrenheit temperatures 41, 32, and 212 to a list of tuples containing the fahrenheit and celsius equevalents.\n",
    "\n",
    "#Celsius = (fahrenheit - 32) * (5/9)\n",
    "fahrenheit = [41, 32, 212]\n",
    "\n",
    "list(map(lambda x: (x, (x-32) * 5/9), fahrenheit))"
   ]
  },
  {
   "cell_type": "markdown",
   "id": "b04ac720-8f36-48d7-b19e-b9181d49b3b5",
   "metadata": {},
   "source": [
    "5.15 Other Sequence processing functions"
   ]
  },
  {
   "cell_type": "markdown",
   "id": "0fa22d7a-ae00-4108-90bf-d5dfbff3fd6b",
   "metadata": {},
   "source": [
    "5.16 Two dimensional lists"
   ]
  },
  {
   "cell_type": "code",
   "execution_count": 159,
   "id": "a7954e9c-ed7e-4faf-bd81-fd6f0c59f71d",
   "metadata": {},
   "outputs": [
    {
     "data": {
      "text/plain": [
       "[[77, 88, 8834], [54, 34, 44, 64], [22, 5, 4, 23]]"
      ]
     },
     "execution_count": 159,
     "metadata": {},
     "output_type": "execute_result"
    }
   ],
   "source": [
    "#creating two dimensional Lists\n",
    "#lists can contain other lists as elements.\n",
    "a = [[77, 88, 8834,], [54, 34, 44, 64], [22, 5, 4, 23,]]\n",
    "\n",
    "a"
   ]
  },
  {
   "cell_type": "code",
   "execution_count": 160,
   "id": "9317b31c-4932-4f62-8306-13717babeeb2",
   "metadata": {},
   "outputs": [
    {
     "data": {
      "text/plain": [
       "[[77, 88, 8834], [54, 34, 44, 64], [22, 5, 4, 23]]"
      ]
     },
     "execution_count": 160,
     "metadata": {},
     "output_type": "execute_result"
    }
   ],
   "source": [
    "#alternative way of writing to better identify where the indeces are located\n",
    "a=  [[77, 88, 8834,], \n",
    "    [54, 34, 44, 64], \n",
    "    [22, 5, 4, 23,]]\n",
    "\n",
    "a"
   ]
  },
  {
   "cell_type": "code",
   "execution_count": 161,
   "id": "30106b17-0495-46a5-aa8c-0972c01bde83",
   "metadata": {},
   "outputs": [],
   "source": [
    "#Every element of two dimensional lists are identified in the for a[i][j]. a is the list name. i and j are the indeces that uniquely identify each elements row and column"
   ]
  },
  {
   "cell_type": "code",
   "execution_count": 162,
   "id": "357014f2-ca7b-439a-9a07-0300c28b6711",
   "metadata": {},
   "outputs": [],
   "source": [
    "#m-by-n-list is a list with m rows and n columns"
   ]
  },
  {
   "cell_type": "code",
   "execution_count": 163,
   "id": "bc33caa4-10ef-424c-8f0e-c9f284b56a41",
   "metadata": {},
   "outputs": [
    {
     "name": "stdout",
     "output_type": "stream",
     "text": [
      "77 88 8834 \n",
      "54 34 44 64 \n",
      "22 5 4 23 \n"
     ]
    }
   ],
   "source": [
    "for row in a:\n",
    "    for item in row:\n",
    "        print(item, end=' ')\n",
    "    print()"
   ]
  },
  {
   "cell_type": "code",
   "execution_count": 164,
   "id": "cee0e1e2-a3a8-477b-b693-ddce41e4598f",
   "metadata": {},
   "outputs": [
    {
     "data": {
      "text/plain": [
       "77"
      ]
     },
     "execution_count": 164,
     "metadata": {},
     "output_type": "execute_result"
    }
   ],
   "source": [
    "a[0][0]"
   ]
  },
  {
   "cell_type": "code",
   "execution_count": 165,
   "id": "eed6578a-75eb-4f85-b4b9-3d617cf6cc5d",
   "metadata": {},
   "outputs": [
    {
     "name": "stdout",
     "output_type": "stream",
     "text": [
      "a[0][0]=77 a[0][1]=88 a[0][2]=8834 \n",
      "a[1][0]=54 a[1][1]=34 a[1][2]=44 a[1][3]=64 \n",
      "a[2][0]=22 a[2][1]=5 a[2][2]=4 a[2][3]=23 \n"
     ]
    }
   ],
   "source": [
    "for i, row in enumerate(a):\n",
    "    for j, item in enumerate(row):\n",
    "        print(f'a[{i}][{j}]={item}' , end=' ')\n",
    "    print()"
   ]
  },
  {
   "cell_type": "code",
   "execution_count": 166,
   "id": "b3413612-79c4-49b2-8a26-ae70ed170502",
   "metadata": {},
   "outputs": [],
   "source": [
    "b=[[23,3,4, 6, 7 ,8], [9, 6, 7, 12, 7], [23, 2345, 45], [23]]\n"
   ]
  },
  {
   "cell_type": "code",
   "execution_count": 167,
   "id": "e6bd29af-a311-414b-87bd-c0b67e3912ae",
   "metadata": {},
   "outputs": [
    {
     "name": "stdout",
     "output_type": "stream",
     "text": [
      "23 3 4 6 7 8 \n",
      "9 6 7 12 7 \n",
      "23 2345 45 \n",
      "23 \n"
     ]
    }
   ],
   "source": [
    "for row in b:\n",
    "    for item in row:\n",
    "        print(item, end=' ')\n",
    "    print()"
   ]
  },
  {
   "cell_type": "code",
   "execution_count": 168,
   "id": "dee1f454-90ac-4a3d-bff8-b426cae4f714",
   "metadata": {},
   "outputs": [
    {
     "name": "stdout",
     "output_type": "stream",
     "text": [
      "a[0][0]=23 a[0][1]=3 a[0][2]=4 a[0][3]=6 a[0][4]=7 a[0][5]=8 \n",
      "a[1][0]=9 a[1][1]=6 a[1][2]=7 a[1][3]=12 a[1][4]=7 \n",
      "a[2][0]=23 a[2][1]=2345 a[2][2]=45 \n",
      "a[3][0]=23 \n"
     ]
    }
   ],
   "source": [
    "for i, row in enumerate(b):\n",
    "    for j, item in enumerate(row):\n",
    "        print(f'a[{i}][{j}]={item}' , end=' ')\n",
    "    print()"
   ]
  },
  {
   "cell_type": "code",
   "execution_count": 169,
   "id": "b543f963-7018-46ba-aa42-e801874bcf71",
   "metadata": {},
   "outputs": [],
   "source": [
    "#Self Check\n",
    "\n",
    "#Q1-A. In two dimensional lists, The first index by convention identifies the row of an element the second index identifies the column of an element.\n",
    "#Q2-A. Label the elements of the two by three list sales\n",
    "#\n",
    "#for row in range(len(sales)):\n",
    "#    for col in range(len(sales[row])):\n",
    "#        sales[row][col] = 0\n",
    "#Answer sales[0][0],sales[0][1],sales[0][2],sales[1][0],sales[1][1],\n",
    "\n",
    "#Q3 consider a two by three integer list t.\n",
    "#a) how many rows does t have? 2\n",
    "#b) how many columns does t have? 3\n",
    "#c) how many elements does t have? 6\n",
    "#d) what are the names of the elements in row 1?  t[1][0], t[1][1], t[1][2],\n",
    "#e) what are the names of the elements in row 1? t[0][2], t[1],[2]. \n",
    "#f) set the elements in row 0 and column 2 to 10. t[0][1] = 10\n",
    "#e) what nested statement?\n",
    "#for row in range(len(t)):\n",
    "#    for column in range(len(t[row])):\n",
    "#        t[row][column] = row + column\n",
    "#Q4.\n",
    "\n"
   ]
  },
  {
   "cell_type": "code",
   "execution_count": 170,
   "id": "dff54402-77e1-426d-aab3-bc5c3ece9c1c",
   "metadata": {},
   "outputs": [],
   "source": [
    "t = [[10, 7, 3], [20, 4, 17]]\n",
    "total = 0\n",
    "items = 0\n",
    "for row in t:\n",
    "    for item in row:\n",
    "        total += item\n",
    "        items  += 1 \n"
   ]
  },
  {
   "cell_type": "code",
   "execution_count": 171,
   "id": "92c3d132-9502-4580-8e68-ed9a66046f6e",
   "metadata": {},
   "outputs": [
    {
     "data": {
      "text/plain": [
       "10.166666666666666"
      ]
     },
     "execution_count": 171,
     "metadata": {},
     "output_type": "execute_result"
    }
   ],
   "source": [
    "total / items"
   ]
  },
  {
   "cell_type": "code",
   "execution_count": 172,
   "id": "afc73075-871b-45a2-8cec-fa144c43888f",
   "metadata": {},
   "outputs": [
    {
     "data": {
      "text/plain": [
       "10.166666666666666"
      ]
     },
     "execution_count": 172,
     "metadata": {},
     "output_type": "execute_result"
    }
   ],
   "source": [
    "total = 0\n",
    "items = 0\n",
    "for row in t:\n",
    "    total += sum(row)\n",
    "    items += len(row)\n",
    "    \n",
    "total / items"
   ]
  },
  {
   "cell_type": "code",
   "execution_count": null,
   "id": "aa068435-4685-469c-a5f1-b3136982cf80",
   "metadata": {},
   "outputs": [],
   "source": [
    "Mike Abbinante"
   ]
  }
 ],
 "metadata": {
  "kernelspec": {
   "display_name": "Python 3 (ipykernel)",
   "language": "python",
   "name": "python3"
  },
  "language_info": {
   "codemirror_mode": {
    "name": "ipython",
    "version": 3
   },
   "file_extension": ".py",
   "mimetype": "text/x-python",
   "name": "python",
   "nbconvert_exporter": "python",
   "pygments_lexer": "ipython3",
   "version": "3.9.12"
  }
 },
 "nbformat": 4,
 "nbformat_minor": 5
}
